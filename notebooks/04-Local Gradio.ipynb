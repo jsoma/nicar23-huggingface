{
 "cells": [
  {
   "cell_type": "code",
   "execution_count": null,
   "id": "be757b5c",
   "metadata": {},
   "outputs": [],
   "source": [
    "!pip install -q sentence-transformers sentencepiece transformers gradio pytube"
   ]
  },
  {
   "cell_type": "markdown",
   "id": "491875f6",
   "metadata": {},
   "source": [
    "# Gradio, not on huggingface\n",
    "\n",
    "Gradio is those fun boxes on the Hugging Face website. Let's say we were interested in going back to working on [sentiment analysis](https://huggingface.co/cardiffnlp/twitter-roberta-base-sentiment)."
   ]
  },
  {
   "cell_type": "code",
   "execution_count": null,
   "id": "ba1d61bf",
   "metadata": {},
   "outputs": [],
   "source": [
    "import gradio as gr\n",
    "\n",
    "gr.Interface.load(\n",
    "    \"models/cardiffnlp/twitter-roberta-base-sentiment\",\n",
    "    examples=['This is an example', 'Here is another one']\n",
    ").launch()"
   ]
  },
  {
   "cell_type": "markdown",
   "id": "5178fd85",
   "metadata": {},
   "source": [
    "You can do that with any model! How about a tiny tiny version of [Whisper](https://huggingface.co/openai/whisper-tiny)?"
   ]
  },
  {
   "cell_type": "code",
   "execution_count": null,
   "id": "aa5d357e",
   "metadata": {},
   "outputs": [],
   "source": [
    "import gradio as gr\n",
    "\n",
    "gr.Interface.load(\"models/openai/whisper-tiny\").launch()"
   ]
  },
  {
   "cell_type": "markdown",
   "id": "c3f44865",
   "metadata": {},
   "source": [
    "If we wanted to customize it, we could do that, too! I borrowed [this space here](https://huggingface.co/spaces/sanchit-gandhi/whisper-large-v2)..."
   ]
  },
  {
   "cell_type": "code",
   "execution_count": null,
   "id": "ee4812b0",
   "metadata": {},
   "outputs": [],
   "source": [
    "# This... isn't working currently. No idea why!\n",
    "\n",
    "import gradio as gr\n",
    "from transformers import pipeline\n",
    "\n",
    "pipe = pipeline(\"automatic-speech-recognition\",\n",
    "                model=\"openai/whisper-large-v2\")\n",
    "\n",
    "def transcribe(audio):\n",
    "    text = pipe(audio)[\"text\"]\n",
    "    return text\n",
    "\n",
    "with gr.Blocks() as demo:\n",
    "    gr.Markdown(\"Our Custom demo\")\n",
    "    audio_in = gr.Audio(source=\"microphone\")\n",
    "    text_out = gr.Textbox(label=\"Recognized result from Microphone\")\n",
    "    gr.Interface(transcribe, inputs=[audio_in], outputs=[text_out])\n",
    "\n",
    "demo.launch()"
   ]
  },
  {
   "cell_type": "markdown",
   "id": "c475c0c4",
   "metadata": {},
   "source": [
    "We're going to pivot from Whisper to... text analysis again."
   ]
  },
  {
   "cell_type": "code",
   "execution_count": null,
   "id": "2409a74a",
   "metadata": {},
   "outputs": [],
   "source": [
    "import gradio as gr\n",
    "from transformers import pipeline\n",
    "\n",
    "pipe = pipeline(\"sentiment-analysis\",\n",
    "                model=\"cardiffnlp/twitter-roberta-base-sentiment\")\n",
    "\n",
    "def analyze(text_input):\n",
    "    result = pipe(text_input)\n",
    "\n",
    "    return result[0]\n",
    "\n",
    "text_in = gr.Textbox(label=\"Your input\")\n",
    "text_out = gr.TextArea(label=\"The output\")\n",
    "\n",
    "gr.Interface(analyze, inputs=text_in, outputs=text_out, allow_flagging='never').launch()"
   ]
  },
  {
   "cell_type": "code",
   "execution_count": null,
   "id": "29b50dc3",
   "metadata": {},
   "outputs": [],
   "source": []
  }
 ],
 "metadata": {
  "kernelspec": {
   "display_name": "Python 3 (ipykernel)",
   "language": "python",
   "name": "python3"
  },
  "language_info": {
   "codemirror_mode": {
    "name": "ipython",
    "version": 3
   },
   "file_extension": ".py",
   "mimetype": "text/x-python",
   "name": "python",
   "nbconvert_exporter": "python",
   "pygments_lexer": "ipython3",
   "version": "3.10.3"
  }
 },
 "nbformat": 4,
 "nbformat_minor": 5
}
