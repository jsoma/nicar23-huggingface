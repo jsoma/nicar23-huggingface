{
 "cells": [
  {
   "cell_type": "code",
   "execution_count": 2,
   "id": "091afebf",
   "metadata": {},
   "outputs": [
    {
     "name": "stdout",
     "output_type": "stream",
     "text": [
      "\r\n",
      "\u001b[1m[\u001b[0m\u001b[34;49mnotice\u001b[0m\u001b[1;39;49m]\u001b[0m\u001b[39;49m A new release of pip available: \u001b[0m\u001b[31;49m22.3.1\u001b[0m\u001b[39;49m -> \u001b[0m\u001b[32;49m23.0.1\u001b[0m\r\n",
      "\u001b[1m[\u001b[0m\u001b[34;49mnotice\u001b[0m\u001b[1;39;49m]\u001b[0m\u001b[39;49m To update, run: \u001b[0m\u001b[32;49mpython -m pip install --upgrade pip\u001b[0m\r\n"
     ]
    }
   ],
   "source": [
    "!pip install -q sentence-transformers sentencepiece"
   ]
  },
  {
   "cell_type": "code",
   "execution_count": 3,
   "id": "b0bba5e7",
   "metadata": {},
   "outputs": [
    {
     "data": {
      "application/vnd.jupyter.widget-view+json": {
       "model_id": "c8eaa7e8d55046959c38bd0238df4c62",
       "version_major": 2,
       "version_minor": 0
      },
      "text/plain": [
       "Downloading (…)e9125/.gitattributes:   0%|          | 0.00/1.18k [00:00<?, ?B/s]"
      ]
     },
     "metadata": {},
     "output_type": "display_data"
    },
    {
     "data": {
      "application/vnd.jupyter.widget-view+json": {
       "model_id": "acbb2c39ed9746d88f8c43bbfebd968f",
       "version_major": 2,
       "version_minor": 0
      },
      "text/plain": [
       "Downloading (…)_Pooling/config.json:   0%|          | 0.00/190 [00:00<?, ?B/s]"
      ]
     },
     "metadata": {},
     "output_type": "display_data"
    },
    {
     "data": {
      "application/vnd.jupyter.widget-view+json": {
       "model_id": "04c1ea5ef2a743a480b46443c09a706b",
       "version_major": 2,
       "version_minor": 0
      },
      "text/plain": [
       "Downloading (…)7e55de9125/README.md:   0%|          | 0.00/10.6k [00:00<?, ?B/s]"
      ]
     },
     "metadata": {},
     "output_type": "display_data"
    },
    {
     "data": {
      "application/vnd.jupyter.widget-view+json": {
       "model_id": "d2eeb75759f44eb6bc1e18e4c9df7c37",
       "version_major": 2,
       "version_minor": 0
      },
      "text/plain": [
       "Downloading (…)55de9125/config.json:   0%|          | 0.00/612 [00:00<?, ?B/s]"
      ]
     },
     "metadata": {},
     "output_type": "display_data"
    },
    {
     "data": {
      "application/vnd.jupyter.widget-view+json": {
       "model_id": "949c2bf7030b43b3b95dce942da5b9fc",
       "version_major": 2,
       "version_minor": 0
      },
      "text/plain": [
       "Downloading (…)ce_transformers.json:   0%|          | 0.00/116 [00:00<?, ?B/s]"
      ]
     },
     "metadata": {},
     "output_type": "display_data"
    },
    {
     "data": {
      "application/vnd.jupyter.widget-view+json": {
       "model_id": "77c6592deedd42189d43e30867478158",
       "version_major": 2,
       "version_minor": 0
      },
      "text/plain": [
       "Downloading (…)125/data_config.json:   0%|          | 0.00/39.3k [00:00<?, ?B/s]"
      ]
     },
     "metadata": {},
     "output_type": "display_data"
    },
    {
     "data": {
      "application/vnd.jupyter.widget-view+json": {
       "model_id": "b2f2469640754356a742e8be1751f891",
       "version_major": 2,
       "version_minor": 0
      },
      "text/plain": [
       "Downloading (…)\"pytorch_model.bin\";:   0%|          | 0.00/90.9M [00:00<?, ?B/s]"
      ]
     },
     "metadata": {},
     "output_type": "display_data"
    },
    {
     "data": {
      "application/vnd.jupyter.widget-view+json": {
       "model_id": "7c7914a1cb3c42b98be28cc54d0a30db",
       "version_major": 2,
       "version_minor": 0
      },
      "text/plain": [
       "Downloading (…)nce_bert_config.json:   0%|          | 0.00/53.0 [00:00<?, ?B/s]"
      ]
     },
     "metadata": {},
     "output_type": "display_data"
    },
    {
     "data": {
      "application/vnd.jupyter.widget-view+json": {
       "model_id": "352c38a45a844074ba4f5dd9612474cc",
       "version_major": 2,
       "version_minor": 0
      },
      "text/plain": [
       "Downloading (…)cial_tokens_map.json:   0%|          | 0.00/112 [00:00<?, ?B/s]"
      ]
     },
     "metadata": {},
     "output_type": "display_data"
    },
    {
     "data": {
      "application/vnd.jupyter.widget-view+json": {
       "model_id": "360e5dbe94a04dd1ba399be54c8f14d4",
       "version_major": 2,
       "version_minor": 0
      },
      "text/plain": [
       "Downloading (…)e9125/tokenizer.json:   0%|          | 0.00/466k [00:00<?, ?B/s]"
      ]
     },
     "metadata": {},
     "output_type": "display_data"
    },
    {
     "data": {
      "application/vnd.jupyter.widget-view+json": {
       "model_id": "c3103ee6f9c348d4af37a5381ae7bf78",
       "version_major": 2,
       "version_minor": 0
      },
      "text/plain": [
       "Downloading (…)okenizer_config.json:   0%|          | 0.00/350 [00:00<?, ?B/s]"
      ]
     },
     "metadata": {},
     "output_type": "display_data"
    },
    {
     "data": {
      "application/vnd.jupyter.widget-view+json": {
       "model_id": "c5eaa0b4babb46018e8eebf81a91c804",
       "version_major": 2,
       "version_minor": 0
      },
      "text/plain": [
       "Downloading (…)9125/train_script.py:   0%|          | 0.00/13.2k [00:00<?, ?B/s]"
      ]
     },
     "metadata": {},
     "output_type": "display_data"
    },
    {
     "data": {
      "application/vnd.jupyter.widget-view+json": {
       "model_id": "d6b59ecd246a4d719a21ad766855a972",
       "version_major": 2,
       "version_minor": 0
      },
      "text/plain": [
       "Downloading (…)7e55de9125/vocab.txt:   0%|          | 0.00/232k [00:00<?, ?B/s]"
      ]
     },
     "metadata": {},
     "output_type": "display_data"
    },
    {
     "data": {
      "application/vnd.jupyter.widget-view+json": {
       "model_id": "947b3cf387434df08e9a70b66c61e34f",
       "version_major": 2,
       "version_minor": 0
      },
      "text/plain": [
       "Downloading (…)5de9125/modules.json:   0%|          | 0.00/349 [00:00<?, ?B/s]"
      ]
     },
     "metadata": {},
     "output_type": "display_data"
    },
    {
     "name": "stdout",
     "output_type": "stream",
     "text": [
      "[[ 6.76568896e-02  6.34959117e-02  4.87131886e-02  7.93049857e-02\n",
      "   3.74480151e-02  2.65281508e-03  3.93749289e-02 -7.09842239e-03\n",
      "   5.93614615e-02  3.15370485e-02  6.00980520e-02 -5.29051907e-02\n",
      "   4.06067520e-02 -2.59308685e-02  2.98427064e-02  1.12693594e-03\n",
      "   7.35150129e-02 -5.03819287e-02 -1.22386612e-01  2.37028114e-02\n",
      "   2.97264550e-02  4.24768515e-02  2.56337840e-02  1.99517864e-03\n",
      "  -5.69191314e-02 -2.71597765e-02 -3.29035893e-02  6.60248846e-02\n",
      "   1.19007058e-01 -4.58791777e-02 -7.26214126e-02 -3.25840712e-02\n",
      "   5.23413792e-02  4.50553149e-02  8.25307611e-03  3.67023833e-02\n",
      "  -1.39414435e-02  6.53919131e-02 -2.64272895e-02  2.06322220e-04\n",
      "  -1.36643853e-02 -3.62810791e-02 -1.95043162e-02 -2.89738532e-02\n",
      "   3.94270495e-02 -8.84090811e-02  2.62422953e-03  1.36714093e-02\n",
      "   4.83064204e-02 -3.11565101e-02 -1.17329143e-01 -5.11689819e-02\n",
      "  -8.85288864e-02 -2.18962524e-02  1.42985992e-02  4.44168560e-02\n",
      "  -1.34814987e-02  7.43392631e-02  2.66382322e-02 -1.98762529e-02\n",
      "   1.79190915e-02 -1.06052142e-02 -9.04263332e-02  2.13269498e-02\n",
      "   1.41204804e-01 -6.47178292e-03 -1.40382641e-03 -1.53610194e-02\n",
      "  -8.73571560e-02  7.22173229e-02  2.01402828e-02  4.25587408e-02\n",
      "  -3.49013656e-02  3.19655810e-04 -8.02971125e-02 -3.27472650e-02\n",
      "   2.85268445e-02 -5.13658337e-02  1.09389216e-01  8.19328278e-02\n",
      "  -9.84039307e-02 -9.34095979e-02 -1.51292821e-02  4.51249070e-02\n",
      "   4.94171418e-02 -2.51868572e-02  1.57077983e-02 -1.29290670e-01\n",
      "   5.31893969e-03  4.02342062e-03 -2.34572757e-02 -6.72983080e-02\n",
      "   2.92280391e-02 -2.60845385e-02  1.30625051e-02 -3.11663002e-02\n",
      "  -4.82714325e-02 -5.58859892e-02 -3.87506709e-02  1.20010830e-01\n",
      "  -1.03923567e-02  4.89705056e-02  5.53537309e-02  4.49359268e-02\n",
      "  -4.00967477e-03 -1.02959745e-01 -2.92968936e-02 -5.83402514e-02\n",
      "   2.70472560e-02 -2.20169313e-02 -7.22241327e-02 -4.13869545e-02\n",
      "  -1.93298832e-02  2.73325108e-03  2.76962644e-04 -9.67587978e-02\n",
      "  -1.00574784e-01 -1.41922869e-02 -8.07891563e-02  4.53924984e-02\n",
      "   2.45041158e-02  5.97614162e-02 -7.38185495e-02  1.19843334e-02\n",
      "  -6.63403943e-02 -7.69044235e-02  3.85156870e-02 -5.59362256e-33\n",
      "   2.80013457e-02 -5.60784750e-02 -4.86601703e-02  2.15570256e-02\n",
      "   6.01980723e-02 -4.81402986e-02 -3.50247137e-02  1.93313453e-02\n",
      "  -1.75151378e-02 -3.89210396e-02 -3.81069840e-03 -1.70287564e-02\n",
      "   2.82099750e-02  1.28289750e-02  4.71600592e-02  6.21029846e-02\n",
      "  -6.43589273e-02  1.29285589e-01 -1.31231602e-02  5.23069873e-02\n",
      "  -3.73680629e-02  2.89093554e-02 -1.68980379e-02 -2.37329230e-02\n",
      "  -3.33492234e-02 -5.16763590e-02  1.55355697e-02  2.08803136e-02\n",
      "  -1.25371693e-02  4.59579006e-02  3.72721814e-02  2.80566923e-02\n",
      "  -5.90005554e-02 -1.16988001e-02  4.92181666e-02  4.70327884e-02\n",
      "   7.35487565e-02 -3.70529704e-02  3.98461800e-03  1.06411958e-02\n",
      "  -1.61594900e-04 -5.27165830e-02  2.75928676e-02 -3.92921343e-02\n",
      "   8.44716802e-02  4.86860983e-02 -4.85860370e-03  1.79948788e-02\n",
      "  -4.28569466e-02  1.23375691e-02  6.39963709e-03  4.04822640e-02\n",
      "   1.48888091e-02 -1.53941615e-02  7.62946978e-02  2.37044189e-02\n",
      "   4.45237346e-02  5.08195385e-02 -2.31248070e-03 -1.88738275e-02\n",
      "  -1.23335095e-02  4.66002375e-02 -5.63437752e-02  6.29926473e-02\n",
      "  -3.15534659e-02  3.24911512e-02  2.34673470e-02 -6.55438378e-02\n",
      "   2.01709066e-02  2.57082190e-02 -1.23868166e-02 -8.36504996e-03\n",
      "  -6.64377883e-02  9.43073779e-02 -3.57091986e-02 -3.42483185e-02\n",
      "  -6.66351477e-03 -8.01519118e-03 -3.09711415e-02  4.33011949e-02\n",
      "  -8.21397454e-03 -1.50795043e-01  3.07691768e-02  4.00719047e-02\n",
      "  -3.79293561e-02  1.93208153e-03  4.00529914e-02 -8.77074972e-02\n",
      "  -3.68491672e-02  8.57957266e-03 -3.19251642e-02 -1.25257159e-02\n",
      "   7.35539496e-02  1.34739117e-03  2.05918252e-02  2.71097834e-33\n",
      "  -5.18577285e-02  5.78360483e-02 -9.18985456e-02  3.94421704e-02\n",
      "   1.05576456e-01 -1.96913276e-02  6.18402213e-02 -7.63464868e-02\n",
      "   2.40879953e-02  9.40049067e-02 -1.16535477e-01  3.71197984e-02\n",
      "   5.22425659e-02 -3.95852933e-03  5.72216064e-02  5.32860868e-03\n",
      "   1.24016792e-01  1.39022376e-02 -1.10249659e-02  3.56053002e-02\n",
      "  -3.30754519e-02  8.16574916e-02 -1.52003290e-02  6.05584718e-02\n",
      "  -6.01397119e-02  3.26102860e-02 -3.48295681e-02 -1.69882961e-02\n",
      "  -9.74907354e-02 -2.71483045e-02  1.74713822e-03 -7.68981501e-02\n",
      "  -4.31859046e-02 -1.89984385e-02 -2.91660465e-02  5.77488244e-02\n",
      "   2.41821855e-02 -1.16901929e-02 -6.21435195e-02  2.84351129e-02\n",
      "  -2.37545304e-04 -2.51783933e-02  4.39635012e-03  8.12840536e-02\n",
      "   3.64184976e-02 -6.04005456e-02 -3.65517922e-02 -7.93748051e-02\n",
      "  -5.08526480e-03  6.69699609e-02 -1.17784359e-01  3.23744342e-02\n",
      "  -4.71251905e-02 -1.34460488e-02 -9.48445275e-02  8.24944396e-03\n",
      "  -1.06749181e-02 -6.81881979e-02  1.11813121e-03  2.48019714e-02\n",
      "  -6.35890290e-02  2.84493752e-02 -2.61303373e-02  8.58111754e-02\n",
      "   1.14682302e-01 -5.35345562e-02 -5.63589036e-02  4.26008888e-02\n",
      "   1.09453741e-02  2.09577996e-02  1.00131139e-01  3.26051116e-02\n",
      "  -1.84208825e-01 -3.93207856e-02 -6.91454411e-02 -6.38105273e-02\n",
      "  -6.56386390e-02 -6.41247071e-03 -4.79611978e-02 -7.68133178e-02\n",
      "   2.95384340e-02 -2.29949169e-02  4.17036675e-02 -2.50047855e-02\n",
      "  -4.54510096e-03 -4.17136773e-02 -1.32289212e-02 -6.38356879e-02\n",
      "  -2.46476009e-03 -1.37338005e-02  1.68977827e-02 -6.30398467e-02\n",
      "   8.98881257e-02  4.18171026e-02 -1.85687821e-02 -1.80442168e-08\n",
      "  -1.67998467e-02 -3.21578681e-02  6.30384013e-02 -4.13092151e-02\n",
      "   4.44819815e-02  2.02475186e-03  6.29592836e-02 -5.17367898e-03\n",
      "  -1.00443177e-02 -3.05640716e-02  3.52672897e-02  5.58581054e-02\n",
      "  -4.67125066e-02  3.45103219e-02  3.29578333e-02  4.30114903e-02\n",
      "   2.94360779e-02 -3.03164199e-02 -1.71107557e-02  7.37485439e-02\n",
      "  -5.47909215e-02  2.77515445e-02  6.20163232e-03  1.58800241e-02\n",
      "   3.42977904e-02 -5.15748514e-03  2.35079397e-02  7.53135681e-02\n",
      "   1.92843340e-02  3.36197279e-02  5.09103686e-02  1.52497083e-01\n",
      "   1.64206903e-02  2.70528495e-02  3.75162438e-02  2.18553878e-02\n",
      "   5.66334128e-02 -3.95748056e-02  7.12313354e-02 -5.41376509e-02\n",
      "   1.03779801e-03  2.11853553e-02 -3.56308036e-02  1.09017007e-01\n",
      "   2.76525668e-03  3.13996859e-02  1.38420996e-03 -3.45738046e-02\n",
      "  -4.59277593e-02  2.88083833e-02  7.16907671e-03  4.84684221e-02\n",
      "   2.61019077e-02 -9.44069959e-03  2.82169059e-02  3.48723866e-02\n",
      "   3.69098298e-02 -8.58948007e-03 -3.53205912e-02 -2.47857124e-02\n",
      "  -1.91921331e-02  3.80708016e-02  5.99653721e-02 -4.22287509e-02]\n",
      " [ 8.64385143e-02  1.02762640e-01  5.39454864e-03  2.04438739e-03\n",
      "  -9.96342860e-03  2.53855027e-02  4.92875427e-02 -3.06265410e-02\n",
      "   6.87255040e-02  1.01366015e-02  7.75397569e-02 -9.00806934e-02\n",
      "   6.10610377e-03 -5.69898151e-02  1.41715594e-02  2.80491188e-02\n",
      "  -8.68464336e-02  7.64399618e-02 -1.03491254e-01 -6.77437931e-02\n",
      "   6.99947327e-02  8.44250396e-02 -7.24916160e-03  1.04770670e-02\n",
      "   1.34020438e-02  6.77576661e-02 -9.42086279e-02 -3.71689945e-02\n",
      "   5.22617437e-02 -3.10853682e-02 -9.63406563e-02  1.57717168e-02\n",
      "   2.57867016e-02  7.85244927e-02  7.89949000e-02  1.91516522e-02\n",
      "   1.64356921e-02  3.10082128e-03  3.81311737e-02  2.37089992e-02\n",
      "   1.05389562e-02 -4.40644771e-02  4.41738032e-02 -2.58727819e-02\n",
      "   6.15378842e-02 -4.05427292e-02 -8.64140391e-02  3.19722742e-02\n",
      "  -8.90696829e-04 -2.44436245e-02 -9.19721946e-02  2.33939327e-02\n",
      "  -8.30293149e-02  4.41511124e-02 -2.49692909e-02  6.23020194e-02\n",
      "  -1.30349840e-03  7.51395151e-02  2.46384870e-02 -6.47244379e-02\n",
      "  -1.17727838e-01  3.83392572e-02 -9.11767781e-02  6.35446459e-02\n",
      "   7.62739182e-02 -8.80240649e-02  9.54554789e-03 -4.69717942e-02\n",
      "  -8.41740146e-02  3.88823748e-02 -1.14393622e-01  6.28854055e-03\n",
      "  -3.49361971e-02  2.39751395e-02 -3.31317745e-02 -1.57244559e-02\n",
      "  -3.78955454e-02 -8.81245825e-03  7.06118941e-02  3.28066200e-02\n",
      "   2.03675125e-03 -1.12278961e-01  6.79719914e-03  1.22765368e-02\n",
      "   3.35302725e-02 -1.36200823e-02 -2.25490090e-02 -2.25228835e-02\n",
      "  -2.03194283e-02  5.04297763e-02 -7.48652741e-02 -8.22821781e-02\n",
      "   7.65962079e-02  4.93392646e-02 -3.75553071e-02  1.44634871e-02\n",
      "  -5.72457612e-02 -1.79953799e-02  1.09698012e-01  1.19462833e-01\n",
      "   8.09251738e-04  6.17058575e-02  3.26322541e-02 -1.30780131e-01\n",
      "  -1.48636624e-01 -6.16233423e-02  4.33885604e-02  2.67129168e-02\n",
      "   1.39785539e-02 -3.94002087e-02 -2.52711307e-02  3.87745607e-03\n",
      "   3.58664803e-02 -6.15421645e-02  3.76660861e-02  2.67564412e-02\n",
      "  -3.82659063e-02 -3.54793146e-02 -2.39227209e-02  8.67977515e-02\n",
      "  -1.84062887e-02  7.71039426e-02  1.39859342e-03  7.00383261e-02\n",
      "  -4.77877855e-02 -7.89820105e-02  5.10814674e-02 -2.99868499e-33\n",
      "  -3.91646437e-02 -2.56211986e-03  1.65210385e-02  9.48937610e-03\n",
      "  -5.66219725e-02  6.57783374e-02 -4.77002487e-02  1.11661963e-02\n",
      "  -5.73557839e-02 -9.16257594e-03 -2.17521321e-02 -5.59532642e-02\n",
      "  -1.11422613e-02  9.32793319e-02  1.66764744e-02 -1.36723891e-02\n",
      "   4.34388518e-02  1.87244546e-03  7.29943439e-03  5.16332872e-02\n",
      "   4.80609238e-02  1.35341525e-01 -1.71739291e-02 -1.29698040e-02\n",
      "  -7.50109479e-02  2.61107516e-02  2.69801356e-02  7.83003925e-04\n",
      "  -4.87269796e-02  1.17842732e-02 -4.59580384e-02 -4.83214296e-02\n",
      "  -1.95671059e-02  1.93888918e-02  1.98807642e-02  1.67431757e-02\n",
      "   9.87800807e-02 -2.74088103e-02  2.34808344e-02  3.70234880e-03\n",
      "  -6.14514500e-02 -1.21228246e-03 -9.50473733e-03  9.25155636e-03\n",
      "   2.38443501e-02  8.61232430e-02  2.26789974e-02  5.45104907e-04\n",
      "   3.47129703e-02  6.25462970e-03 -6.92771608e-03  3.92400473e-02\n",
      "   1.15674948e-02  3.26279551e-02  6.22155294e-02  2.76114084e-02\n",
      "   1.86884403e-02  3.55805345e-02  4.11795452e-02  1.54781751e-02\n",
      "   4.22691666e-02  3.82248238e-02  1.00313378e-02 -2.83245891e-02\n",
      "   4.47052270e-02 -4.10459153e-02 -4.50552255e-03 -5.44734858e-02\n",
      "   2.62321047e-02  1.79861914e-02 -1.23118818e-01 -4.66952138e-02\n",
      "  -1.35914236e-02  6.46710619e-02  3.57346982e-03 -1.22233983e-02\n",
      "  -1.79382134e-02 -2.55502500e-02  2.37224326e-02  4.08661738e-03\n",
      "  -6.51475862e-02  4.43652049e-02  4.68596183e-02 -3.25174518e-02\n",
      "   4.02278686e-03 -3.97605030e-03  1.11939292e-02 -9.95597839e-02\n",
      "   3.33167501e-02  8.01060125e-02  9.42692533e-02 -6.38294145e-02\n",
      "   3.23152095e-02 -5.13553508e-02 -7.49871181e-03  5.30052030e-34\n",
      "  -4.13194485e-02  9.49646980e-02 -1.06401481e-01  4.96590622e-02\n",
      "  -3.41914110e-02 -3.16745751e-02 -1.71556007e-02  1.70101319e-03\n",
      "   5.79757802e-02 -1.21778552e-03 -1.68536492e-02 -5.16912639e-02\n",
      "   5.52999713e-02 -3.42647023e-02  3.08179092e-02 -3.10481321e-02\n",
      "   9.27533060e-02  3.72663476e-02 -2.37397309e-02  4.45893779e-02\n",
      "   1.46153467e-02  1.16239309e-01 -5.00112288e-02  3.88716273e-02\n",
      "   4.24757134e-03  2.56976113e-02  3.27243805e-02  4.29907031e-02\n",
      "  -1.36144385e-02  2.56122127e-02  1.06262527e-02 -8.46864581e-02\n",
      "  -9.52982008e-02  1.08399935e-01 -7.51600489e-02 -1.37773799e-02\n",
      "   6.37338012e-02 -4.49664611e-03 -3.25321667e-02  6.23613857e-02\n",
      "   3.48052531e-02 -3.54921892e-02 -2.00222377e-02  3.66607606e-02\n",
      "  -2.48836838e-02  1.01819243e-02 -7.01233149e-02 -4.31950577e-02\n",
      "   2.95332391e-02 -2.94951955e-04 -3.45385857e-02  1.46675576e-02\n",
      "  -9.83969644e-02 -4.70488183e-02 -8.85496382e-03 -8.89914930e-02\n",
      "   3.50995623e-02 -1.29602045e-01 -4.98865508e-02 -6.12047054e-02\n",
      "  -5.97796999e-02  9.46323015e-03  4.91217636e-02 -7.75026977e-02\n",
      "   8.09727162e-02 -4.79256995e-02  2.34374846e-03  7.57031441e-02\n",
      "  -2.40176041e-02 -1.52545851e-02  4.86738607e-02 -3.85969281e-02\n",
      "  -7.04832003e-02 -1.20348027e-02 -3.88790257e-02 -7.76017159e-02\n",
      "  -1.07243806e-02  1.04188276e-02 -2.13753916e-02 -9.17386413e-02\n",
      "  -1.11344233e-02 -2.96065677e-02  2.46458314e-02  4.65712976e-03\n",
      "  -1.63449440e-02 -3.95220518e-02  7.73373321e-02 -2.84732897e-02\n",
      "  -3.69944633e-03  8.27666074e-02 -1.10408654e-02  3.13984081e-02\n",
      "   5.35093993e-02  5.75145893e-02 -3.17622088e-02 -1.52911284e-08\n",
      "  -7.99661651e-02 -4.76797074e-02 -8.59789178e-02  5.69616482e-02\n",
      "  -4.08866294e-02  2.23832615e-02 -4.64441255e-03 -3.80131491e-02\n",
      "  -3.10671311e-02 -1.07278228e-02  1.97698586e-02  7.76997861e-03\n",
      "  -6.09470252e-03 -3.86376306e-02  2.80271918e-02  6.78137764e-02\n",
      "  -2.35350002e-02  3.21747288e-02  8.02537054e-03 -2.39106938e-02\n",
      "  -1.21999136e-03  3.14598940e-02 -5.24925217e-02 -8.06810241e-03\n",
      "   3.14774667e-03  5.11497073e-02 -4.44104560e-02  6.36013597e-02\n",
      "   3.85084227e-02  3.30432653e-02 -4.18727612e-03  4.95592915e-02\n",
      "  -5.69604374e-02 -6.49706135e-03 -2.49793641e-02 -1.60866976e-02\n",
      "   6.62289038e-02 -2.06309929e-02  1.08045824e-01  1.68546811e-02\n",
      "   1.43813044e-02 -1.32126529e-02 -1.29387394e-01  6.95216581e-02\n",
      "  -5.55772893e-02 -6.75413907e-02 -5.45821432e-03 -6.13588048e-03\n",
      "   3.90841104e-02 -6.28779829e-02  3.74063812e-02 -1.16571039e-02\n",
      "   1.29149845e-02 -5.52495681e-02  5.16076088e-02 -4.30836948e-03\n",
      "   5.80247082e-02  1.86945219e-02  2.27810703e-02  3.21665742e-02\n",
      "   5.37978746e-02  7.02849403e-02  7.49311969e-02 -8.41775239e-02]]\n"
     ]
    }
   ],
   "source": [
    "from sentence_transformers import SentenceTransformer\n",
    "sentences = [\"This is an example sentence\", \"Each sentence is converted\"]\n",
    "\n",
    "model = SentenceTransformer('sentence-transformers/all-MiniLM-L6-v2')\n",
    "embeddings = model.encode(sentences)\n",
    "print(embeddings)"
   ]
  },
  {
   "cell_type": "code",
   "execution_count": 5,
   "id": "077f889c",
   "metadata": {},
   "outputs": [],
   "source": [
    "import pandas as pd\n",
    "\n",
    "sentences = [\n",
    "    \"Molly ate a fish\",\n",
    "    \"Jen consumed a carp\",\n",
    "    \"I would like to sell you a house\",\n",
    "    \"Я пытаюсь купить дачу\", # I'm trying to buy a summer home\n",
    "    \"J'aimerais vous louer un grand appartement\", # I would like to rent a large apartment to you\n",
    "    \"This is a wonderful investment opportunity\",\n",
    "    \"Это прекрасная возможность для инвестиций\", # investment opportunity\n",
    "    \"C'est une merveilleuse opportunité d'investissement\", # investment opportunity\n",
    "    \"これは素晴らしい投資機会です\", # investment opportunity\n",
    "    \"野球はあなたが思うよりも面白いことがあります\", # baseball can be more interesting than you think\n",
    "    \"Baseball can be interesting than you'd think\"\n",
    "]"
   ]
  },
  {
   "cell_type": "code",
   "execution_count": 6,
   "id": "95869375",
   "metadata": {},
   "outputs": [],
   "source": [
    "model = SentenceTransformer('sentence-transformers/all-MiniLM-L6-v2')\n",
    "embeddings = model.encode(sentences)"
   ]
  },
  {
   "cell_type": "code",
   "execution_count": 7,
   "id": "18f18d94",
   "metadata": {},
   "outputs": [
    {
     "data": {
      "text/html": [
       "<style type=\"text/css\">\n",
       "#T_823bc_row0_col0, #T_823bc_row1_col1, #T_823bc_row2_col2, #T_823bc_row3_col3, #T_823bc_row4_col4, #T_823bc_row5_col5, #T_823bc_row6_col6, #T_823bc_row7_col7, #T_823bc_row8_col8, #T_823bc_row9_col9, #T_823bc_row10_col10 {\n",
       "  background-color: #023858;\n",
       "  color: #f1f1f1;\n",
       "}\n",
       "#T_823bc_row0_col1, #T_823bc_row1_col0 {\n",
       "  background-color: #4e9ac6;\n",
       "  color: #f1f1f1;\n",
       "}\n",
       "#T_823bc_row0_col2, #T_823bc_row0_col8, #T_823bc_row2_col0, #T_823bc_row2_col9, #T_823bc_row8_col0, #T_823bc_row9_col2 {\n",
       "  background-color: #ebe6f2;\n",
       "  color: #000000;\n",
       "}\n",
       "#T_823bc_row0_col3, #T_823bc_row3_col0 {\n",
       "  background-color: #dddbec;\n",
       "  color: #000000;\n",
       "}\n",
       "#T_823bc_row0_col4, #T_823bc_row0_col10, #T_823bc_row4_col0, #T_823bc_row5_col8, #T_823bc_row8_col5, #T_823bc_row10_col0 {\n",
       "  background-color: #ece7f2;\n",
       "  color: #000000;\n",
       "}\n",
       "#T_823bc_row0_col5, #T_823bc_row5_col0 {\n",
       "  background-color: #f8f1f8;\n",
       "  color: #000000;\n",
       "}\n",
       "#T_823bc_row0_col6, #T_823bc_row1_col3, #T_823bc_row3_col1, #T_823bc_row6_col0 {\n",
       "  background-color: #e9e5f1;\n",
       "  color: #000000;\n",
       "}\n",
       "#T_823bc_row0_col7, #T_823bc_row7_col0 {\n",
       "  background-color: #f7f0f7;\n",
       "  color: #000000;\n",
       "}\n",
       "#T_823bc_row0_col9, #T_823bc_row1_col10, #T_823bc_row2_col6, #T_823bc_row6_col2, #T_823bc_row9_col0, #T_823bc_row10_col1 {\n",
       "  background-color: #ede7f2;\n",
       "  color: #000000;\n",
       "}\n",
       "#T_823bc_row1_col2, #T_823bc_row2_col1 {\n",
       "  background-color: #e7e3f0;\n",
       "  color: #000000;\n",
       "}\n",
       "#T_823bc_row1_col4, #T_823bc_row4_col1 {\n",
       "  background-color: #f1ebf5;\n",
       "  color: #000000;\n",
       "}\n",
       "#T_823bc_row1_col5, #T_823bc_row2_col7, #T_823bc_row5_col1, #T_823bc_row5_col9, #T_823bc_row7_col2, #T_823bc_row9_col5 {\n",
       "  background-color: #f0eaf4;\n",
       "  color: #000000;\n",
       "}\n",
       "#T_823bc_row1_col6, #T_823bc_row6_col1 {\n",
       "  background-color: #faf2f8;\n",
       "  color: #000000;\n",
       "}\n",
       "#T_823bc_row1_col7, #T_823bc_row4_col10, #T_823bc_row7_col1, #T_823bc_row10_col4 {\n",
       "  background-color: #f1ebf4;\n",
       "  color: #000000;\n",
       "}\n",
       "#T_823bc_row1_col8, #T_823bc_row3_col7, #T_823bc_row7_col3, #T_823bc_row8_col1 {\n",
       "  background-color: #dedcec;\n",
       "  color: #000000;\n",
       "}\n",
       "#T_823bc_row1_col9, #T_823bc_row9_col1 {\n",
       "  background-color: #d6d6e9;\n",
       "  color: #000000;\n",
       "}\n",
       "#T_823bc_row2_col3, #T_823bc_row3_col2 {\n",
       "  background-color: #d2d2e7;\n",
       "  color: #000000;\n",
       "}\n",
       "#T_823bc_row2_col4, #T_823bc_row4_col2 {\n",
       "  background-color: #e0dded;\n",
       "  color: #000000;\n",
       "}\n",
       "#T_823bc_row2_col5, #T_823bc_row5_col2 {\n",
       "  background-color: #88b1d4;\n",
       "  color: #000000;\n",
       "}\n",
       "#T_823bc_row2_col8, #T_823bc_row8_col2 {\n",
       "  background-color: #eee8f3;\n",
       "  color: #000000;\n",
       "}\n",
       "#T_823bc_row2_col10, #T_823bc_row7_col10, #T_823bc_row10_col2, #T_823bc_row10_col7 {\n",
       "  background-color: #eee9f3;\n",
       "  color: #000000;\n",
       "}\n",
       "#T_823bc_row3_col4, #T_823bc_row4_col3 {\n",
       "  background-color: #d1d2e6;\n",
       "  color: #000000;\n",
       "}\n",
       "#T_823bc_row3_col5, #T_823bc_row5_col3 {\n",
       "  background-color: #e3e0ee;\n",
       "  color: #000000;\n",
       "}\n",
       "#T_823bc_row3_col6, #T_823bc_row6_col3 {\n",
       "  background-color: #69a5cc;\n",
       "  color: #f1f1f1;\n",
       "}\n",
       "#T_823bc_row3_col8, #T_823bc_row8_col3 {\n",
       "  background-color: #a1bbda;\n",
       "  color: #000000;\n",
       "}\n",
       "#T_823bc_row3_col9, #T_823bc_row9_col3 {\n",
       "  background-color: #9cb9d9;\n",
       "  color: #000000;\n",
       "}\n",
       "#T_823bc_row3_col10, #T_823bc_row10_col3 {\n",
       "  background-color: #fff7fb;\n",
       "  color: #000000;\n",
       "}\n",
       "#T_823bc_row4_col5, #T_823bc_row5_col4 {\n",
       "  background-color: #eae6f1;\n",
       "  color: #000000;\n",
       "}\n",
       "#T_823bc_row4_col6, #T_823bc_row6_col4 {\n",
       "  background-color: #8fb4d6;\n",
       "  color: #000000;\n",
       "}\n",
       "#T_823bc_row4_col7, #T_823bc_row7_col4 {\n",
       "  background-color: #3d93c2;\n",
       "  color: #f1f1f1;\n",
       "}\n",
       "#T_823bc_row4_col8, #T_823bc_row8_col4 {\n",
       "  background-color: #cdd0e5;\n",
       "  color: #000000;\n",
       "}\n",
       "#T_823bc_row4_col9, #T_823bc_row9_col4 {\n",
       "  background-color: #dad9ea;\n",
       "  color: #000000;\n",
       "}\n",
       "#T_823bc_row5_col6, #T_823bc_row6_col5 {\n",
       "  background-color: #f3edf5;\n",
       "  color: #000000;\n",
       "}\n",
       "#T_823bc_row5_col7, #T_823bc_row7_col5 {\n",
       "  background-color: #c1cae2;\n",
       "  color: #000000;\n",
       "}\n",
       "#T_823bc_row5_col10, #T_823bc_row10_col5 {\n",
       "  background-color: #d9d8ea;\n",
       "  color: #000000;\n",
       "}\n",
       "#T_823bc_row6_col7, #T_823bc_row7_col6 {\n",
       "  background-color: #acc0dd;\n",
       "  color: #000000;\n",
       "}\n",
       "#T_823bc_row6_col8, #T_823bc_row8_col6 {\n",
       "  background-color: #b0c2de;\n",
       "  color: #000000;\n",
       "}\n",
       "#T_823bc_row6_col9, #T_823bc_row9_col6 {\n",
       "  background-color: #abbfdc;\n",
       "  color: #000000;\n",
       "}\n",
       "#T_823bc_row6_col10, #T_823bc_row10_col6 {\n",
       "  background-color: #f4eef6;\n",
       "  color: #000000;\n",
       "}\n",
       "#T_823bc_row7_col8, #T_823bc_row8_col7 {\n",
       "  background-color: #a8bedc;\n",
       "  color: #000000;\n",
       "}\n",
       "#T_823bc_row7_col9, #T_823bc_row9_col7 {\n",
       "  background-color: #c8cde4;\n",
       "  color: #000000;\n",
       "}\n",
       "#T_823bc_row8_col9, #T_823bc_row9_col8 {\n",
       "  background-color: #3790c0;\n",
       "  color: #f1f1f1;\n",
       "}\n",
       "#T_823bc_row8_col10, #T_823bc_row9_col10, #T_823bc_row10_col8, #T_823bc_row10_col9 {\n",
       "  background-color: #fdf5fa;\n",
       "  color: #000000;\n",
       "}\n",
       "</style>\n",
       "<table id=\"T_823bc\">\n",
       "  <thead>\n",
       "    <tr>\n",
       "      <th class=\"blank level0\" >&nbsp;</th>\n",
       "      <th id=\"T_823bc_level0_col0\" class=\"col_heading level0 col0\" >Molly ate a fish</th>\n",
       "      <th id=\"T_823bc_level0_col1\" class=\"col_heading level0 col1\" >Jen consumed a carp</th>\n",
       "      <th id=\"T_823bc_level0_col2\" class=\"col_heading level0 col2\" >I would like to sell you a house</th>\n",
       "      <th id=\"T_823bc_level0_col3\" class=\"col_heading level0 col3\" >Я пытаюсь купить дачу</th>\n",
       "      <th id=\"T_823bc_level0_col4\" class=\"col_heading level0 col4\" >J'aimerais vous louer un grand appartement</th>\n",
       "      <th id=\"T_823bc_level0_col5\" class=\"col_heading level0 col5\" >This is a wonderful investment opportunity</th>\n",
       "      <th id=\"T_823bc_level0_col6\" class=\"col_heading level0 col6\" >Это прекрасная возможность для инвестиций</th>\n",
       "      <th id=\"T_823bc_level0_col7\" class=\"col_heading level0 col7\" >C'est une merveilleuse opportunité d'investissement</th>\n",
       "      <th id=\"T_823bc_level0_col8\" class=\"col_heading level0 col8\" >これは素晴らしい投資機会です</th>\n",
       "      <th id=\"T_823bc_level0_col9\" class=\"col_heading level0 col9\" >野球はあなたが思うよりも面白いことがあります</th>\n",
       "      <th id=\"T_823bc_level0_col10\" class=\"col_heading level0 col10\" >Baseball can be interesting than you'd think</th>\n",
       "    </tr>\n",
       "  </thead>\n",
       "  <tbody>\n",
       "    <tr>\n",
       "      <th id=\"T_823bc_level0_row0\" class=\"row_heading level0 row0\" >Molly ate a fish</th>\n",
       "      <td id=\"T_823bc_row0_col0\" class=\"data row0 col0\" >1.000000</td>\n",
       "      <td id=\"T_823bc_row0_col1\" class=\"data row0 col1\" >0.526053</td>\n",
       "      <td id=\"T_823bc_row0_col2\" class=\"data row0 col2\" >0.025476</td>\n",
       "      <td id=\"T_823bc_row0_col3\" class=\"data row0 col3\" >0.098335</td>\n",
       "      <td id=\"T_823bc_row0_col4\" class=\"data row0 col4\" >0.020435</td>\n",
       "      <td id=\"T_823bc_row0_col5\" class=\"data row0 col5\" >-0.065293</td>\n",
       "      <td id=\"T_823bc_row0_col6\" class=\"data row0 col6\" >0.035801</td>\n",
       "      <td id=\"T_823bc_row0_col7\" class=\"data row0 col7\" >-0.062506</td>\n",
       "      <td id=\"T_823bc_row0_col8\" class=\"data row0 col8\" >0.027358</td>\n",
       "      <td id=\"T_823bc_row0_col9\" class=\"data row0 col9\" >0.017622</td>\n",
       "      <td id=\"T_823bc_row0_col10\" class=\"data row0 col10\" >0.023445</td>\n",
       "    </tr>\n",
       "    <tr>\n",
       "      <th id=\"T_823bc_level0_row1\" class=\"row_heading level0 row1\" >Jen consumed a carp</th>\n",
       "      <td id=\"T_823bc_row1_col0\" class=\"data row1 col0\" >0.526053</td>\n",
       "      <td id=\"T_823bc_row1_col1\" class=\"data row1 col1\" >1.000000</td>\n",
       "      <td id=\"T_823bc_row1_col2\" class=\"data row1 col2\" >0.044178</td>\n",
       "      <td id=\"T_823bc_row1_col3\" class=\"data row1 col3\" >0.035044</td>\n",
       "      <td id=\"T_823bc_row1_col4\" class=\"data row1 col4\" >-0.018194</td>\n",
       "      <td id=\"T_823bc_row1_col5\" class=\"data row1 col5\" >-0.004438</td>\n",
       "      <td id=\"T_823bc_row1_col6\" class=\"data row1 col6\" >-0.078566</td>\n",
       "      <td id=\"T_823bc_row1_col7\" class=\"data row1 col7\" >-0.011418</td>\n",
       "      <td id=\"T_823bc_row1_col8\" class=\"data row1 col8\" >0.090357</td>\n",
       "      <td id=\"T_823bc_row1_col9\" class=\"data row1 col9\" >0.131507</td>\n",
       "      <td id=\"T_823bc_row1_col10\" class=\"data row1 col10\" >0.016100</td>\n",
       "    </tr>\n",
       "    <tr>\n",
       "      <th id=\"T_823bc_level0_row2\" class=\"row_heading level0 row2\" >I would like to sell you a house</th>\n",
       "      <td id=\"T_823bc_row2_col0\" class=\"data row2 col0\" >0.025476</td>\n",
       "      <td id=\"T_823bc_row2_col1\" class=\"data row2 col1\" >0.044178</td>\n",
       "      <td id=\"T_823bc_row2_col2\" class=\"data row2 col2\" >1.000000</td>\n",
       "      <td id=\"T_823bc_row2_col3\" class=\"data row2 col3\" >0.154773</td>\n",
       "      <td id=\"T_823bc_row2_col4\" class=\"data row2 col4\" >0.083555</td>\n",
       "      <td id=\"T_823bc_row2_col5\" class=\"data row2 col5\" >0.386736</td>\n",
       "      <td id=\"T_823bc_row2_col6\" class=\"data row2 col6\" >0.017175</td>\n",
       "      <td id=\"T_823bc_row2_col7\" class=\"data row2 col7\" >-0.006744</td>\n",
       "      <td id=\"T_823bc_row2_col8\" class=\"data row2 col8\" >0.010857</td>\n",
       "      <td id=\"T_823bc_row2_col9\" class=\"data row2 col9\" >0.025510</td>\n",
       "      <td id=\"T_823bc_row2_col10\" class=\"data row2 col10\" >0.006353</td>\n",
       "    </tr>\n",
       "    <tr>\n",
       "      <th id=\"T_823bc_level0_row3\" class=\"row_heading level0 row3\" >Я пытаюсь купить дачу</th>\n",
       "      <td id=\"T_823bc_row3_col0\" class=\"data row3 col0\" >0.098335</td>\n",
       "      <td id=\"T_823bc_row3_col1\" class=\"data row3 col1\" >0.035044</td>\n",
       "      <td id=\"T_823bc_row3_col2\" class=\"data row3 col2\" >0.154773</td>\n",
       "      <td id=\"T_823bc_row3_col3\" class=\"data row3 col3\" >1.000000</td>\n",
       "      <td id=\"T_823bc_row3_col4\" class=\"data row3 col4\" >0.159519</td>\n",
       "      <td id=\"T_823bc_row3_col5\" class=\"data row3 col5\" >0.064379</td>\n",
       "      <td id=\"T_823bc_row3_col6\" class=\"data row3 col6\" >0.462397</td>\n",
       "      <td id=\"T_823bc_row3_col7\" class=\"data row3 col7\" >0.092110</td>\n",
       "      <td id=\"T_823bc_row3_col8\" class=\"data row3 col8\" >0.314708</td>\n",
       "      <td id=\"T_823bc_row3_col9\" class=\"data row3 col9\" >0.327675</td>\n",
       "      <td id=\"T_823bc_row3_col10\" class=\"data row3 col10\" >-0.119607</td>\n",
       "    </tr>\n",
       "    <tr>\n",
       "      <th id=\"T_823bc_level0_row4\" class=\"row_heading level0 row4\" >J'aimerais vous louer un grand appartement</th>\n",
       "      <td id=\"T_823bc_row4_col0\" class=\"data row4 col0\" >0.020435</td>\n",
       "      <td id=\"T_823bc_row4_col1\" class=\"data row4 col1\" >-0.018194</td>\n",
       "      <td id=\"T_823bc_row4_col2\" class=\"data row4 col2\" >0.083555</td>\n",
       "      <td id=\"T_823bc_row4_col3\" class=\"data row4 col3\" >0.159519</td>\n",
       "      <td id=\"T_823bc_row4_col4\" class=\"data row4 col4\" >1.000000</td>\n",
       "      <td id=\"T_823bc_row4_col5\" class=\"data row4 col5\" >0.032253</td>\n",
       "      <td id=\"T_823bc_row4_col6\" class=\"data row4 col6\" >0.365505</td>\n",
       "      <td id=\"T_823bc_row4_col7\" class=\"data row4 col7\" >0.566635</td>\n",
       "      <td id=\"T_823bc_row4_col8\" class=\"data row4 col8\" >0.172406</td>\n",
       "      <td id=\"T_823bc_row4_col9\" class=\"data row4 col9\" >0.110118</td>\n",
       "      <td id=\"T_823bc_row4_col10\" class=\"data row4 col10\" >-0.013743</td>\n",
       "    </tr>\n",
       "    <tr>\n",
       "      <th id=\"T_823bc_level0_row5\" class=\"row_heading level0 row5\" >This is a wonderful investment opportunity</th>\n",
       "      <td id=\"T_823bc_row5_col0\" class=\"data row5 col0\" >-0.065293</td>\n",
       "      <td id=\"T_823bc_row5_col1\" class=\"data row5 col1\" >-0.004438</td>\n",
       "      <td id=\"T_823bc_row5_col2\" class=\"data row5 col2\" >0.386736</td>\n",
       "      <td id=\"T_823bc_row5_col3\" class=\"data row5 col3\" >0.064379</td>\n",
       "      <td id=\"T_823bc_row5_col4\" class=\"data row5 col4\" >0.032253</td>\n",
       "      <td id=\"T_823bc_row5_col5\" class=\"data row5 col5\" >1.000000</td>\n",
       "      <td id=\"T_823bc_row5_col6\" class=\"data row5 col6\" >-0.030322</td>\n",
       "      <td id=\"T_823bc_row5_col7\" class=\"data row5 col7\" >0.212230</td>\n",
       "      <td id=\"T_823bc_row5_col8\" class=\"data row5 col8\" >0.023889</td>\n",
       "      <td id=\"T_823bc_row5_col9\" class=\"data row5 col9\" >-0.002844</td>\n",
       "      <td id=\"T_823bc_row5_col10\" class=\"data row5 col10\" >0.112804</td>\n",
       "    </tr>\n",
       "    <tr>\n",
       "      <th id=\"T_823bc_level0_row6\" class=\"row_heading level0 row6\" >Это прекрасная возможность для инвестиций</th>\n",
       "      <td id=\"T_823bc_row6_col0\" class=\"data row6 col0\" >0.035801</td>\n",
       "      <td id=\"T_823bc_row6_col1\" class=\"data row6 col1\" >-0.078566</td>\n",
       "      <td id=\"T_823bc_row6_col2\" class=\"data row6 col2\" >0.017175</td>\n",
       "      <td id=\"T_823bc_row6_col3\" class=\"data row6 col3\" >0.462397</td>\n",
       "      <td id=\"T_823bc_row6_col4\" class=\"data row6 col4\" >0.365505</td>\n",
       "      <td id=\"T_823bc_row6_col5\" class=\"data row6 col5\" >-0.030322</td>\n",
       "      <td id=\"T_823bc_row6_col6\" class=\"data row6 col6\" >1.000000</td>\n",
       "      <td id=\"T_823bc_row6_col7\" class=\"data row6 col7\" >0.282414</td>\n",
       "      <td id=\"T_823bc_row6_col8\" class=\"data row6 col8\" >0.267571</td>\n",
       "      <td id=\"T_823bc_row6_col9\" class=\"data row6 col9\" >0.285873</td>\n",
       "      <td id=\"T_823bc_row6_col10\" class=\"data row6 col10\" >-0.040309</td>\n",
       "    </tr>\n",
       "    <tr>\n",
       "      <th id=\"T_823bc_level0_row7\" class=\"row_heading level0 row7\" >C'est une merveilleuse opportunité d'investissement</th>\n",
       "      <td id=\"T_823bc_row7_col0\" class=\"data row7 col0\" >-0.062506</td>\n",
       "      <td id=\"T_823bc_row7_col1\" class=\"data row7 col1\" >-0.011418</td>\n",
       "      <td id=\"T_823bc_row7_col2\" class=\"data row7 col2\" >-0.006744</td>\n",
       "      <td id=\"T_823bc_row7_col3\" class=\"data row7 col3\" >0.092110</td>\n",
       "      <td id=\"T_823bc_row7_col4\" class=\"data row7 col4\" >0.566635</td>\n",
       "      <td id=\"T_823bc_row7_col5\" class=\"data row7 col5\" >0.212230</td>\n",
       "      <td id=\"T_823bc_row7_col6\" class=\"data row7 col6\" >0.282414</td>\n",
       "      <td id=\"T_823bc_row7_col7\" class=\"data row7 col7\" >1.000000</td>\n",
       "      <td id=\"T_823bc_row7_col8\" class=\"data row7 col8\" >0.292651</td>\n",
       "      <td id=\"T_823bc_row7_col9\" class=\"data row7 col9\" >0.187989</td>\n",
       "      <td id=\"T_823bc_row7_col10\" class=\"data row7 col10\" >0.006793</td>\n",
       "    </tr>\n",
       "    <tr>\n",
       "      <th id=\"T_823bc_level0_row8\" class=\"row_heading level0 row8\" >これは素晴らしい投資機会です</th>\n",
       "      <td id=\"T_823bc_row8_col0\" class=\"data row8 col0\" >0.027358</td>\n",
       "      <td id=\"T_823bc_row8_col1\" class=\"data row8 col1\" >0.090357</td>\n",
       "      <td id=\"T_823bc_row8_col2\" class=\"data row8 col2\" >0.010857</td>\n",
       "      <td id=\"T_823bc_row8_col3\" class=\"data row8 col3\" >0.314708</td>\n",
       "      <td id=\"T_823bc_row8_col4\" class=\"data row8 col4\" >0.172406</td>\n",
       "      <td id=\"T_823bc_row8_col5\" class=\"data row8 col5\" >0.023889</td>\n",
       "      <td id=\"T_823bc_row8_col6\" class=\"data row8 col6\" >0.267571</td>\n",
       "      <td id=\"T_823bc_row8_col7\" class=\"data row8 col7\" >0.292651</td>\n",
       "      <td id=\"T_823bc_row8_col8\" class=\"data row8 col8\" >1.000000</td>\n",
       "      <td id=\"T_823bc_row8_col9\" class=\"data row8 col9\" >0.577265</td>\n",
       "      <td id=\"T_823bc_row8_col10\" class=\"data row8 col10\" >-0.100630</td>\n",
       "    </tr>\n",
       "    <tr>\n",
       "      <th id=\"T_823bc_level0_row9\" class=\"row_heading level0 row9\" >野球はあなたが思うよりも面白いことがあります</th>\n",
       "      <td id=\"T_823bc_row9_col0\" class=\"data row9 col0\" >0.017622</td>\n",
       "      <td id=\"T_823bc_row9_col1\" class=\"data row9 col1\" >0.131507</td>\n",
       "      <td id=\"T_823bc_row9_col2\" class=\"data row9 col2\" >0.025510</td>\n",
       "      <td id=\"T_823bc_row9_col3\" class=\"data row9 col3\" >0.327675</td>\n",
       "      <td id=\"T_823bc_row9_col4\" class=\"data row9 col4\" >0.110118</td>\n",
       "      <td id=\"T_823bc_row9_col5\" class=\"data row9 col5\" >-0.002844</td>\n",
       "      <td id=\"T_823bc_row9_col6\" class=\"data row9 col6\" >0.285873</td>\n",
       "      <td id=\"T_823bc_row9_col7\" class=\"data row9 col7\" >0.187989</td>\n",
       "      <td id=\"T_823bc_row9_col8\" class=\"data row9 col8\" >0.577265</td>\n",
       "      <td id=\"T_823bc_row9_col9\" class=\"data row9 col9\" >1.000000</td>\n",
       "      <td id=\"T_823bc_row9_col10\" class=\"data row9 col10\" >-0.098722</td>\n",
       "    </tr>\n",
       "    <tr>\n",
       "      <th id=\"T_823bc_level0_row10\" class=\"row_heading level0 row10\" >Baseball can be interesting than you'd think</th>\n",
       "      <td id=\"T_823bc_row10_col0\" class=\"data row10 col0\" >0.023445</td>\n",
       "      <td id=\"T_823bc_row10_col1\" class=\"data row10 col1\" >0.016100</td>\n",
       "      <td id=\"T_823bc_row10_col2\" class=\"data row10 col2\" >0.006353</td>\n",
       "      <td id=\"T_823bc_row10_col3\" class=\"data row10 col3\" >-0.119607</td>\n",
       "      <td id=\"T_823bc_row10_col4\" class=\"data row10 col4\" >-0.013743</td>\n",
       "      <td id=\"T_823bc_row10_col5\" class=\"data row10 col5\" >0.112804</td>\n",
       "      <td id=\"T_823bc_row10_col6\" class=\"data row10 col6\" >-0.040309</td>\n",
       "      <td id=\"T_823bc_row10_col7\" class=\"data row10 col7\" >0.006793</td>\n",
       "      <td id=\"T_823bc_row10_col8\" class=\"data row10 col8\" >-0.100630</td>\n",
       "      <td id=\"T_823bc_row10_col9\" class=\"data row10 col9\" >-0.098722</td>\n",
       "      <td id=\"T_823bc_row10_col10\" class=\"data row10 col10\" >1.000000</td>\n",
       "    </tr>\n",
       "  </tbody>\n",
       "</table>\n"
      ],
      "text/plain": [
       "<pandas.io.formats.style.Styler at 0x168d37c10>"
      ]
     },
     "execution_count": 7,
     "metadata": {},
     "output_type": "execute_result"
    }
   ],
   "source": [
    "from sklearn.metrics.pairwise import cosine_similarity\n",
    "\n",
    "# Compute similarities exactly the same as we did before!\n",
    "similarities = cosine_similarity(embeddings)\n",
    "\n",
    "# Turn into a dataframe\n",
    "pd.DataFrame(similarities,\n",
    "            index=sentences,\n",
    "            columns=sentences) \\\n",
    "            .style \\\n",
    "            .background_gradient(axis=None)"
   ]
  },
  {
   "cell_type": "markdown",
   "id": "b61b7911",
   "metadata": {},
   "source": [
    "Don't worry, there are some [pretrained multilingual models](https://www.sbert.net/docs/pretrained_models.html#multi-lingual-models)"
   ]
  },
  {
   "cell_type": "code",
   "execution_count": 8,
   "id": "671d04cd",
   "metadata": {},
   "outputs": [
    {
     "data": {
      "application/vnd.jupyter.widget-view+json": {
       "model_id": "824cd5ae7d0348ca9c380984f2a8ce78",
       "version_major": 2,
       "version_minor": 0
      },
      "text/plain": [
       "Downloading (…)6015c/.gitattributes:   0%|          | 0.00/690 [00:00<?, ?B/s]"
      ]
     },
     "metadata": {},
     "output_type": "display_data"
    },
    {
     "data": {
      "application/vnd.jupyter.widget-view+json": {
       "model_id": "c553d199476146db843673a851c2a40e",
       "version_major": 2,
       "version_minor": 0
      },
      "text/plain": [
       "Downloading (…)_Pooling/config.json:   0%|          | 0.00/190 [00:00<?, ?B/s]"
      ]
     },
     "metadata": {},
     "output_type": "display_data"
    },
    {
     "data": {
      "application/vnd.jupyter.widget-view+json": {
       "model_id": "e8e9388c00274ac6b7603e05d036dffc",
       "version_major": 2,
       "version_minor": 0
      },
      "text/plain": [
       "Downloading (…)/2_Dense/config.json:   0%|          | 0.00/114 [00:00<?, ?B/s]"
      ]
     },
     "metadata": {},
     "output_type": "display_data"
    },
    {
     "data": {
      "application/vnd.jupyter.widget-view+json": {
       "model_id": "23d47aa0ae4c45908785bd6baac8547c",
       "version_major": 2,
       "version_minor": 0
      },
      "text/plain": [
       "Downloading (…)\"pytorch_model.bin\";:   0%|          | 0.00/1.58M [00:00<?, ?B/s]"
      ]
     },
     "metadata": {},
     "output_type": "display_data"
    },
    {
     "data": {
      "application/vnd.jupyter.widget-view+json": {
       "model_id": "64e70247b6a749abb813b39052b22b84",
       "version_major": 2,
       "version_minor": 0
      },
      "text/plain": [
       "Downloading (…)ff6066015c/README.md:   0%|          | 0.00/2.38k [00:00<?, ?B/s]"
      ]
     },
     "metadata": {},
     "output_type": "display_data"
    },
    {
     "data": {
      "application/vnd.jupyter.widget-view+json": {
       "model_id": "c7839408673247ee89b35eab312cd6ab",
       "version_major": 2,
       "version_minor": 0
      },
      "text/plain": [
       "Downloading (…)6066015c/config.json:   0%|          | 0.00/610 [00:00<?, ?B/s]"
      ]
     },
     "metadata": {},
     "output_type": "display_data"
    },
    {
     "data": {
      "application/vnd.jupyter.widget-view+json": {
       "model_id": "91a4d64ddb1e49dab5de831a5dc3d43c",
       "version_major": 2,
       "version_minor": 0
      },
      "text/plain": [
       "Downloading (…)ce_transformers.json:   0%|          | 0.00/122 [00:00<?, ?B/s]"
      ]
     },
     "metadata": {},
     "output_type": "display_data"
    },
    {
     "data": {
      "application/vnd.jupyter.widget-view+json": {
       "model_id": "914e4904afe844d283e1af5993b8b573",
       "version_major": 2,
       "version_minor": 0
      },
      "text/plain": [
       "Downloading (…)\"pytorch_model.bin\";:   0%|          | 0.00/539M [00:00<?, ?B/s]"
      ]
     },
     "metadata": {},
     "output_type": "display_data"
    },
    {
     "data": {
      "application/vnd.jupyter.widget-view+json": {
       "model_id": "e6103dc44cf44e9398c038b8278e1da6",
       "version_major": 2,
       "version_minor": 0
      },
      "text/plain": [
       "Downloading (…)nce_bert_config.json:   0%|          | 0.00/53.0 [00:00<?, ?B/s]"
      ]
     },
     "metadata": {},
     "output_type": "display_data"
    },
    {
     "data": {
      "application/vnd.jupyter.widget-view+json": {
       "model_id": "ebe14bd04c1b42cf8e578e5042c00923",
       "version_major": 2,
       "version_minor": 0
      },
      "text/plain": [
       "Downloading (…)cial_tokens_map.json:   0%|          | 0.00/112 [00:00<?, ?B/s]"
      ]
     },
     "metadata": {},
     "output_type": "display_data"
    },
    {
     "data": {
      "application/vnd.jupyter.widget-view+json": {
       "model_id": "07d5b7a80ab144108359a1e2edf8c51e",
       "version_major": 2,
       "version_minor": 0
      },
      "text/plain": [
       "Downloading (…)6015c/tokenizer.json:   0%|          | 0.00/1.96M [00:00<?, ?B/s]"
      ]
     },
     "metadata": {},
     "output_type": "display_data"
    },
    {
     "data": {
      "application/vnd.jupyter.widget-view+json": {
       "model_id": "348302fd99bb481cbbba66465d9d8ebe",
       "version_major": 2,
       "version_minor": 0
      },
      "text/plain": [
       "Downloading (…)okenizer_config.json:   0%|          | 0.00/531 [00:00<?, ?B/s]"
      ]
     },
     "metadata": {},
     "output_type": "display_data"
    },
    {
     "data": {
      "application/vnd.jupyter.widget-view+json": {
       "model_id": "ae5b8239084c4d96ade624855bd33645",
       "version_major": 2,
       "version_minor": 0
      },
      "text/plain": [
       "Downloading (…)ff6066015c/vocab.txt:   0%|          | 0.00/996k [00:00<?, ?B/s]"
      ]
     },
     "metadata": {},
     "output_type": "display_data"
    },
    {
     "data": {
      "application/vnd.jupyter.widget-view+json": {
       "model_id": "c17cb049c62e4787a1d8d4b7de3632a2",
       "version_major": 2,
       "version_minor": 0
      },
      "text/plain": [
       "Downloading (…)066015c/modules.json:   0%|          | 0.00/341 [00:00<?, ?B/s]"
      ]
     },
     "metadata": {},
     "output_type": "display_data"
    }
   ],
   "source": [
    "model = SentenceTransformer('sentence-transformers/distiluse-base-multilingual-cased-v2')\n",
    "embeddings = model.encode(sentences)"
   ]
  },
  {
   "cell_type": "code",
   "execution_count": 9,
   "id": "21ae9cf4",
   "metadata": {},
   "outputs": [
    {
     "data": {
      "text/html": [
       "<style type=\"text/css\">\n",
       "#T_5b85c_row0_col0, #T_5b85c_row1_col1, #T_5b85c_row2_col2, #T_5b85c_row3_col3, #T_5b85c_row4_col4, #T_5b85c_row5_col5, #T_5b85c_row6_col6, #T_5b85c_row7_col7, #T_5b85c_row8_col8, #T_5b85c_row9_col9, #T_5b85c_row10_col10 {\n",
       "  background-color: #023858;\n",
       "  color: #f1f1f1;\n",
       "}\n",
       "#T_5b85c_row0_col1, #T_5b85c_row1_col0 {\n",
       "  background-color: #93b5d6;\n",
       "  color: #000000;\n",
       "}\n",
       "#T_5b85c_row0_col2, #T_5b85c_row1_col2, #T_5b85c_row2_col0, #T_5b85c_row2_col1 {\n",
       "  background-color: #e6e2ef;\n",
       "  color: #000000;\n",
       "}\n",
       "#T_5b85c_row0_col3, #T_5b85c_row3_col0, #T_5b85c_row7_col10, #T_5b85c_row10_col7 {\n",
       "  background-color: #d4d4e8;\n",
       "  color: #000000;\n",
       "}\n",
       "#T_5b85c_row0_col4, #T_5b85c_row1_col5, #T_5b85c_row1_col7, #T_5b85c_row4_col0, #T_5b85c_row5_col1, #T_5b85c_row7_col1 {\n",
       "  background-color: #f3edf5;\n",
       "  color: #000000;\n",
       "}\n",
       "#T_5b85c_row0_col5, #T_5b85c_row5_col0 {\n",
       "  background-color: #faf2f8;\n",
       "  color: #000000;\n",
       "}\n",
       "#T_5b85c_row0_col6, #T_5b85c_row0_col7, #T_5b85c_row6_col0, #T_5b85c_row7_col0 {\n",
       "  background-color: #faf3f9;\n",
       "  color: #000000;\n",
       "}\n",
       "#T_5b85c_row0_col8, #T_5b85c_row8_col0 {\n",
       "  background-color: #fff7fb;\n",
       "  color: #000000;\n",
       "}\n",
       "#T_5b85c_row0_col9, #T_5b85c_row1_col6, #T_5b85c_row6_col1, #T_5b85c_row9_col0 {\n",
       "  background-color: #f4edf6;\n",
       "  color: #000000;\n",
       "}\n",
       "#T_5b85c_row0_col10, #T_5b85c_row1_col4, #T_5b85c_row4_col1, #T_5b85c_row10_col0 {\n",
       "  background-color: #f0eaf4;\n",
       "  color: #000000;\n",
       "}\n",
       "#T_5b85c_row1_col3, #T_5b85c_row3_col1 {\n",
       "  background-color: #c9cee4;\n",
       "  color: #000000;\n",
       "}\n",
       "#T_5b85c_row1_col8, #T_5b85c_row8_col1 {\n",
       "  background-color: #fcf4fa;\n",
       "  color: #000000;\n",
       "}\n",
       "#T_5b85c_row1_col9, #T_5b85c_row2_col8, #T_5b85c_row8_col2, #T_5b85c_row9_col1 {\n",
       "  background-color: #e9e5f1;\n",
       "  color: #000000;\n",
       "}\n",
       "#T_5b85c_row1_col10, #T_5b85c_row2_col7, #T_5b85c_row7_col2, #T_5b85c_row10_col1 {\n",
       "  background-color: #e4e1ef;\n",
       "  color: #000000;\n",
       "}\n",
       "#T_5b85c_row2_col3, #T_5b85c_row3_col2 {\n",
       "  background-color: #7dacd1;\n",
       "  color: #f1f1f1;\n",
       "}\n",
       "#T_5b85c_row2_col4, #T_5b85c_row4_col2 {\n",
       "  background-color: #2182b9;\n",
       "  color: #f1f1f1;\n",
       "}\n",
       "#T_5b85c_row2_col5, #T_5b85c_row5_col2 {\n",
       "  background-color: #e1dfed;\n",
       "  color: #000000;\n",
       "}\n",
       "#T_5b85c_row2_col6, #T_5b85c_row3_col8, #T_5b85c_row6_col2, #T_5b85c_row8_col3, #T_5b85c_row8_col10, #T_5b85c_row10_col8 {\n",
       "  background-color: #dad9ea;\n",
       "  color: #000000;\n",
       "}\n",
       "#T_5b85c_row2_col9, #T_5b85c_row3_col7, #T_5b85c_row7_col3, #T_5b85c_row9_col2 {\n",
       "  background-color: #d5d5e8;\n",
       "  color: #000000;\n",
       "}\n",
       "#T_5b85c_row2_col10, #T_5b85c_row6_col10, #T_5b85c_row10_col2, #T_5b85c_row10_col6 {\n",
       "  background-color: #d6d6e9;\n",
       "  color: #000000;\n",
       "}\n",
       "#T_5b85c_row3_col4, #T_5b85c_row4_col3 {\n",
       "  background-color: #96b6d7;\n",
       "  color: #000000;\n",
       "}\n",
       "#T_5b85c_row3_col5, #T_5b85c_row5_col3 {\n",
       "  background-color: #d9d8ea;\n",
       "  color: #000000;\n",
       "}\n",
       "#T_5b85c_row3_col6, #T_5b85c_row6_col3 {\n",
       "  background-color: #cacee5;\n",
       "  color: #000000;\n",
       "}\n",
       "#T_5b85c_row3_col9, #T_5b85c_row9_col3 {\n",
       "  background-color: #e7e3f0;\n",
       "  color: #000000;\n",
       "}\n",
       "#T_5b85c_row3_col10, #T_5b85c_row10_col3 {\n",
       "  background-color: #e8e4f0;\n",
       "  color: #000000;\n",
       "}\n",
       "#T_5b85c_row4_col5, #T_5b85c_row4_col7, #T_5b85c_row4_col9, #T_5b85c_row5_col4, #T_5b85c_row7_col4, #T_5b85c_row9_col4 {\n",
       "  background-color: #c5cce3;\n",
       "  color: #000000;\n",
       "}\n",
       "#T_5b85c_row4_col6, #T_5b85c_row6_col4 {\n",
       "  background-color: #bbc7e0;\n",
       "  color: #000000;\n",
       "}\n",
       "#T_5b85c_row4_col8, #T_5b85c_row8_col4 {\n",
       "  background-color: #c8cde4;\n",
       "  color: #000000;\n",
       "}\n",
       "#T_5b85c_row4_col10, #T_5b85c_row10_col4 {\n",
       "  background-color: #d3d4e7;\n",
       "  color: #000000;\n",
       "}\n",
       "#T_5b85c_row5_col6, #T_5b85c_row6_col5 {\n",
       "  background-color: #034369;\n",
       "  color: #f1f1f1;\n",
       "}\n",
       "#T_5b85c_row5_col7, #T_5b85c_row7_col5 {\n",
       "  background-color: #034165;\n",
       "  color: #f1f1f1;\n",
       "}\n",
       "#T_5b85c_row5_col8, #T_5b85c_row6_col8, #T_5b85c_row8_col5, #T_5b85c_row8_col6 {\n",
       "  background-color: #03456c;\n",
       "  color: #f1f1f1;\n",
       "}\n",
       "#T_5b85c_row5_col9, #T_5b85c_row9_col5 {\n",
       "  background-color: #e5e1ef;\n",
       "  color: #000000;\n",
       "}\n",
       "#T_5b85c_row5_col10, #T_5b85c_row10_col5 {\n",
       "  background-color: #d7d6e9;\n",
       "  color: #000000;\n",
       "}\n",
       "#T_5b85c_row6_col7, #T_5b85c_row7_col6 {\n",
       "  background-color: #023f64;\n",
       "  color: #f1f1f1;\n",
       "}\n",
       "#T_5b85c_row6_col9, #T_5b85c_row7_col9, #T_5b85c_row9_col6, #T_5b85c_row9_col7 {\n",
       "  background-color: #e0deed;\n",
       "  color: #000000;\n",
       "}\n",
       "#T_5b85c_row7_col8, #T_5b85c_row8_col7 {\n",
       "  background-color: #034267;\n",
       "  color: #f1f1f1;\n",
       "}\n",
       "#T_5b85c_row8_col9, #T_5b85c_row9_col8 {\n",
       "  background-color: #e0dded;\n",
       "  color: #000000;\n",
       "}\n",
       "#T_5b85c_row9_col10, #T_5b85c_row10_col9 {\n",
       "  background-color: #045d92;\n",
       "  color: #f1f1f1;\n",
       "}\n",
       "</style>\n",
       "<table id=\"T_5b85c\">\n",
       "  <thead>\n",
       "    <tr>\n",
       "      <th class=\"blank level0\" >&nbsp;</th>\n",
       "      <th id=\"T_5b85c_level0_col0\" class=\"col_heading level0 col0\" >Molly ate a fish</th>\n",
       "      <th id=\"T_5b85c_level0_col1\" class=\"col_heading level0 col1\" >Jen consumed a carp</th>\n",
       "      <th id=\"T_5b85c_level0_col2\" class=\"col_heading level0 col2\" >I would like to sell you a house</th>\n",
       "      <th id=\"T_5b85c_level0_col3\" class=\"col_heading level0 col3\" >Я пытаюсь купить дачу</th>\n",
       "      <th id=\"T_5b85c_level0_col4\" class=\"col_heading level0 col4\" >J'aimerais vous louer un grand appartement</th>\n",
       "      <th id=\"T_5b85c_level0_col5\" class=\"col_heading level0 col5\" >This is a wonderful investment opportunity</th>\n",
       "      <th id=\"T_5b85c_level0_col6\" class=\"col_heading level0 col6\" >Это прекрасная возможность для инвестиций</th>\n",
       "      <th id=\"T_5b85c_level0_col7\" class=\"col_heading level0 col7\" >C'est une merveilleuse opportunité d'investissement</th>\n",
       "      <th id=\"T_5b85c_level0_col8\" class=\"col_heading level0 col8\" >これは素晴らしい投資機会です</th>\n",
       "      <th id=\"T_5b85c_level0_col9\" class=\"col_heading level0 col9\" >野球はあなたが思うよりも面白いことがあります</th>\n",
       "      <th id=\"T_5b85c_level0_col10\" class=\"col_heading level0 col10\" >Baseball can be interesting than you'd think</th>\n",
       "    </tr>\n",
       "  </thead>\n",
       "  <tbody>\n",
       "    <tr>\n",
       "      <th id=\"T_5b85c_level0_row0\" class=\"row_heading level0 row0\" >Molly ate a fish</th>\n",
       "      <td id=\"T_5b85c_row0_col0\" class=\"data row0 col0\" >1.000000</td>\n",
       "      <td id=\"T_5b85c_row0_col1\" class=\"data row0 col1\" >0.358347</td>\n",
       "      <td id=\"T_5b85c_row0_col2\" class=\"data row0 col2\" >0.058340</td>\n",
       "      <td id=\"T_5b85c_row0_col3\" class=\"data row0 col3\" >0.145439</td>\n",
       "      <td id=\"T_5b85c_row0_col4\" class=\"data row0 col4\" >-0.024103</td>\n",
       "      <td id=\"T_5b85c_row0_col5\" class=\"data row0 col5\" >-0.070145</td>\n",
       "      <td id=\"T_5b85c_row0_col6\" class=\"data row0 col6\" >-0.075333</td>\n",
       "      <td id=\"T_5b85c_row0_col7\" class=\"data row0 col7\" >-0.073496</td>\n",
       "      <td id=\"T_5b85c_row0_col8\" class=\"data row0 col8\" >-0.111467</td>\n",
       "      <td id=\"T_5b85c_row0_col9\" class=\"data row0 col9\" >-0.025614</td>\n",
       "      <td id=\"T_5b85c_row0_col10\" class=\"data row0 col10\" >0.001549</td>\n",
       "    </tr>\n",
       "    <tr>\n",
       "      <th id=\"T_5b85c_level0_row1\" class=\"row_heading level0 row1\" >Jen consumed a carp</th>\n",
       "      <td id=\"T_5b85c_row1_col0\" class=\"data row1 col0\" >0.358347</td>\n",
       "      <td id=\"T_5b85c_row1_col1\" class=\"data row1 col1\" >1.000000</td>\n",
       "      <td id=\"T_5b85c_row1_col2\" class=\"data row1 col2\" >0.059195</td>\n",
       "      <td id=\"T_5b85c_row1_col3\" class=\"data row1 col3\" >0.190241</td>\n",
       "      <td id=\"T_5b85c_row1_col4\" class=\"data row1 col4\" >-0.001941</td>\n",
       "      <td id=\"T_5b85c_row1_col5\" class=\"data row1 col5\" >-0.024359</td>\n",
       "      <td id=\"T_5b85c_row1_col6\" class=\"data row1 col6\" >-0.024816</td>\n",
       "      <td id=\"T_5b85c_row1_col7\" class=\"data row1 col7\" >-0.023295</td>\n",
       "      <td id=\"T_5b85c_row1_col8\" class=\"data row1 col8\" >-0.087019</td>\n",
       "      <td id=\"T_5b85c_row1_col9\" class=\"data row1 col9\" >0.040799</td>\n",
       "      <td id=\"T_5b85c_row1_col10\" class=\"data row1 col10\" >0.067243</td>\n",
       "    </tr>\n",
       "    <tr>\n",
       "      <th id=\"T_5b85c_level0_row2\" class=\"row_heading level0 row2\" >I would like to sell you a house</th>\n",
       "      <td id=\"T_5b85c_row2_col0\" class=\"data row2 col0\" >0.058340</td>\n",
       "      <td id=\"T_5b85c_row2_col1\" class=\"data row2 col1\" >0.059195</td>\n",
       "      <td id=\"T_5b85c_row2_col2\" class=\"data row2 col2\" >1.000000</td>\n",
       "      <td id=\"T_5b85c_row2_col3\" class=\"data row2 col3\" >0.418692</td>\n",
       "      <td id=\"T_5b85c_row2_col4\" class=\"data row2 col4\" >0.642746</td>\n",
       "      <td id=\"T_5b85c_row2_col5\" class=\"data row2 col5\" >0.081795</td>\n",
       "      <td id=\"T_5b85c_row2_col6\" class=\"data row2 col6\" >0.118611</td>\n",
       "      <td id=\"T_5b85c_row2_col7\" class=\"data row2 col7\" >0.067805</td>\n",
       "      <td id=\"T_5b85c_row2_col8\" class=\"data row2 col8\" >0.042560</td>\n",
       "      <td id=\"T_5b85c_row2_col9\" class=\"data row2 col9\" >0.144491</td>\n",
       "      <td id=\"T_5b85c_row2_col10\" class=\"data row2 col10\" >0.139300</td>\n",
       "    </tr>\n",
       "    <tr>\n",
       "      <th id=\"T_5b85c_level0_row3\" class=\"row_heading level0 row3\" >Я пытаюсь купить дачу</th>\n",
       "      <td id=\"T_5b85c_row3_col0\" class=\"data row3 col0\" >0.145439</td>\n",
       "      <td id=\"T_5b85c_row3_col1\" class=\"data row3 col1\" >0.190241</td>\n",
       "      <td id=\"T_5b85c_row3_col2\" class=\"data row3 col2\" >0.418692</td>\n",
       "      <td id=\"T_5b85c_row3_col3\" class=\"data row3 col3\" >1.000000</td>\n",
       "      <td id=\"T_5b85c_row3_col4\" class=\"data row3 col4\" >0.351605</td>\n",
       "      <td id=\"T_5b85c_row3_col5\" class=\"data row3 col5\" >0.120679</td>\n",
       "      <td id=\"T_5b85c_row3_col6\" class=\"data row3 col6\" >0.184644</td>\n",
       "      <td id=\"T_5b85c_row3_col7\" class=\"data row3 col7\" >0.144633</td>\n",
       "      <td id=\"T_5b85c_row3_col8\" class=\"data row3 col8\" >0.115598</td>\n",
       "      <td id=\"T_5b85c_row3_col9\" class=\"data row3 col9\" >0.050505</td>\n",
       "      <td id=\"T_5b85c_row3_col10\" class=\"data row3 col10\" >0.046084</td>\n",
       "    </tr>\n",
       "    <tr>\n",
       "      <th id=\"T_5b85c_level0_row4\" class=\"row_heading level0 row4\" >J'aimerais vous louer un grand appartement</th>\n",
       "      <td id=\"T_5b85c_row4_col0\" class=\"data row4 col0\" >-0.024103</td>\n",
       "      <td id=\"T_5b85c_row4_col1\" class=\"data row4 col1\" >-0.001941</td>\n",
       "      <td id=\"T_5b85c_row4_col2\" class=\"data row4 col2\" >0.642746</td>\n",
       "      <td id=\"T_5b85c_row4_col3\" class=\"data row4 col3\" >0.351605</td>\n",
       "      <td id=\"T_5b85c_row4_col4\" class=\"data row4 col4\" >1.000000</td>\n",
       "      <td id=\"T_5b85c_row4_col5\" class=\"data row4 col5\" >0.203307</td>\n",
       "      <td id=\"T_5b85c_row4_col6\" class=\"data row4 col6\" >0.238716</td>\n",
       "      <td id=\"T_5b85c_row4_col7\" class=\"data row4 col7\" >0.204762</td>\n",
       "      <td id=\"T_5b85c_row4_col8\" class=\"data row4 col8\" >0.195163</td>\n",
       "      <td id=\"T_5b85c_row4_col9\" class=\"data row4 col9\" >0.201317</td>\n",
       "      <td id=\"T_5b85c_row4_col10\" class=\"data row4 col10\" >0.151998</td>\n",
       "    </tr>\n",
       "    <tr>\n",
       "      <th id=\"T_5b85c_level0_row5\" class=\"row_heading level0 row5\" >This is a wonderful investment opportunity</th>\n",
       "      <td id=\"T_5b85c_row5_col0\" class=\"data row5 col0\" >-0.070145</td>\n",
       "      <td id=\"T_5b85c_row5_col1\" class=\"data row5 col1\" >-0.024359</td>\n",
       "      <td id=\"T_5b85c_row5_col2\" class=\"data row5 col2\" >0.081795</td>\n",
       "      <td id=\"T_5b85c_row5_col3\" class=\"data row5 col3\" >0.120679</td>\n",
       "      <td id=\"T_5b85c_row5_col4\" class=\"data row5 col4\" >0.203307</td>\n",
       "      <td id=\"T_5b85c_row5_col5\" class=\"data row5 col5\" >1.000000</td>\n",
       "      <td id=\"T_5b85c_row5_col6\" class=\"data row5 col6\" >0.953561</td>\n",
       "      <td id=\"T_5b85c_row5_col7\" class=\"data row5 col7\" >0.964282</td>\n",
       "      <td id=\"T_5b85c_row5_col8\" class=\"data row5 col8\" >0.945246</td>\n",
       "      <td id=\"T_5b85c_row5_col9\" class=\"data row5 col9\" >0.062618</td>\n",
       "      <td id=\"T_5b85c_row5_col10\" class=\"data row5 col10\" >0.133220</td>\n",
       "    </tr>\n",
       "    <tr>\n",
       "      <th id=\"T_5b85c_level0_row6\" class=\"row_heading level0 row6\" >Это прекрасная возможность для инвестиций</th>\n",
       "      <td id=\"T_5b85c_row6_col0\" class=\"data row6 col0\" >-0.075333</td>\n",
       "      <td id=\"T_5b85c_row6_col1\" class=\"data row6 col1\" >-0.024816</td>\n",
       "      <td id=\"T_5b85c_row6_col2\" class=\"data row6 col2\" >0.118611</td>\n",
       "      <td id=\"T_5b85c_row6_col3\" class=\"data row6 col3\" >0.184644</td>\n",
       "      <td id=\"T_5b85c_row6_col4\" class=\"data row6 col4\" >0.238716</td>\n",
       "      <td id=\"T_5b85c_row6_col5\" class=\"data row6 col5\" >0.953561</td>\n",
       "      <td id=\"T_5b85c_row6_col6\" class=\"data row6 col6\" >1.000000</td>\n",
       "      <td id=\"T_5b85c_row6_col7\" class=\"data row6 col7\" >0.968368</td>\n",
       "      <td id=\"T_5b85c_row6_col8\" class=\"data row6 col8\" >0.944719</td>\n",
       "      <td id=\"T_5b85c_row6_col9\" class=\"data row6 col9\" >0.084221</td>\n",
       "      <td id=\"T_5b85c_row6_col10\" class=\"data row6 col10\" >0.136699</td>\n",
       "    </tr>\n",
       "    <tr>\n",
       "      <th id=\"T_5b85c_level0_row7\" class=\"row_heading level0 row7\" >C'est une merveilleuse opportunité d'investissement</th>\n",
       "      <td id=\"T_5b85c_row7_col0\" class=\"data row7 col0\" >-0.073496</td>\n",
       "      <td id=\"T_5b85c_row7_col1\" class=\"data row7 col1\" >-0.023295</td>\n",
       "      <td id=\"T_5b85c_row7_col2\" class=\"data row7 col2\" >0.067805</td>\n",
       "      <td id=\"T_5b85c_row7_col3\" class=\"data row7 col3\" >0.144633</td>\n",
       "      <td id=\"T_5b85c_row7_col4\" class=\"data row7 col4\" >0.204762</td>\n",
       "      <td id=\"T_5b85c_row7_col5\" class=\"data row7 col5\" >0.964282</td>\n",
       "      <td id=\"T_5b85c_row7_col6\" class=\"data row7 col6\" >0.968368</td>\n",
       "      <td id=\"T_5b85c_row7_col7\" class=\"data row7 col7\" >1.000000</td>\n",
       "      <td id=\"T_5b85c_row7_col8\" class=\"data row7 col8\" >0.959357</td>\n",
       "      <td id=\"T_5b85c_row7_col9\" class=\"data row7 col9\" >0.086458</td>\n",
       "      <td id=\"T_5b85c_row7_col10\" class=\"data row7 col10\" >0.146568</td>\n",
       "    </tr>\n",
       "    <tr>\n",
       "      <th id=\"T_5b85c_level0_row8\" class=\"row_heading level0 row8\" >これは素晴らしい投資機会です</th>\n",
       "      <td id=\"T_5b85c_row8_col0\" class=\"data row8 col0\" >-0.111467</td>\n",
       "      <td id=\"T_5b85c_row8_col1\" class=\"data row8 col1\" >-0.087019</td>\n",
       "      <td id=\"T_5b85c_row8_col2\" class=\"data row8 col2\" >0.042560</td>\n",
       "      <td id=\"T_5b85c_row8_col3\" class=\"data row8 col3\" >0.115598</td>\n",
       "      <td id=\"T_5b85c_row8_col4\" class=\"data row8 col4\" >0.195163</td>\n",
       "      <td id=\"T_5b85c_row8_col5\" class=\"data row8 col5\" >0.945246</td>\n",
       "      <td id=\"T_5b85c_row8_col6\" class=\"data row8 col6\" >0.944719</td>\n",
       "      <td id=\"T_5b85c_row8_col7\" class=\"data row8 col7\" >0.959357</td>\n",
       "      <td id=\"T_5b85c_row8_col8\" class=\"data row8 col8\" >1.000000</td>\n",
       "      <td id=\"T_5b85c_row8_col9\" class=\"data row8 col9\" >0.091451</td>\n",
       "      <td id=\"T_5b85c_row8_col10\" class=\"data row8 col10\" >0.115392</td>\n",
       "    </tr>\n",
       "    <tr>\n",
       "      <th id=\"T_5b85c_level0_row9\" class=\"row_heading level0 row9\" >野球はあなたが思うよりも面白いことがあります</th>\n",
       "      <td id=\"T_5b85c_row9_col0\" class=\"data row9 col0\" >-0.025614</td>\n",
       "      <td id=\"T_5b85c_row9_col1\" class=\"data row9 col1\" >0.040799</td>\n",
       "      <td id=\"T_5b85c_row9_col2\" class=\"data row9 col2\" >0.144491</td>\n",
       "      <td id=\"T_5b85c_row9_col3\" class=\"data row9 col3\" >0.050505</td>\n",
       "      <td id=\"T_5b85c_row9_col4\" class=\"data row9 col4\" >0.201317</td>\n",
       "      <td id=\"T_5b85c_row9_col5\" class=\"data row9 col5\" >0.062618</td>\n",
       "      <td id=\"T_5b85c_row9_col6\" class=\"data row9 col6\" >0.084221</td>\n",
       "      <td id=\"T_5b85c_row9_col7\" class=\"data row9 col7\" >0.086458</td>\n",
       "      <td id=\"T_5b85c_row9_col8\" class=\"data row9 col8\" >0.091451</td>\n",
       "      <td id=\"T_5b85c_row9_col9\" class=\"data row9 col9\" >1.000000</td>\n",
       "      <td id=\"T_5b85c_row9_col10\" class=\"data row9 col10\" >0.839617</td>\n",
       "    </tr>\n",
       "    <tr>\n",
       "      <th id=\"T_5b85c_level0_row10\" class=\"row_heading level0 row10\" >Baseball can be interesting than you'd think</th>\n",
       "      <td id=\"T_5b85c_row10_col0\" class=\"data row10 col0\" >0.001549</td>\n",
       "      <td id=\"T_5b85c_row10_col1\" class=\"data row10 col1\" >0.067243</td>\n",
       "      <td id=\"T_5b85c_row10_col2\" class=\"data row10 col2\" >0.139300</td>\n",
       "      <td id=\"T_5b85c_row10_col3\" class=\"data row10 col3\" >0.046084</td>\n",
       "      <td id=\"T_5b85c_row10_col4\" class=\"data row10 col4\" >0.151998</td>\n",
       "      <td id=\"T_5b85c_row10_col5\" class=\"data row10 col5\" >0.133220</td>\n",
       "      <td id=\"T_5b85c_row10_col6\" class=\"data row10 col6\" >0.136699</td>\n",
       "      <td id=\"T_5b85c_row10_col7\" class=\"data row10 col7\" >0.146568</td>\n",
       "      <td id=\"T_5b85c_row10_col8\" class=\"data row10 col8\" >0.115392</td>\n",
       "      <td id=\"T_5b85c_row10_col9\" class=\"data row10 col9\" >0.839617</td>\n",
       "      <td id=\"T_5b85c_row10_col10\" class=\"data row10 col10\" >1.000000</td>\n",
       "    </tr>\n",
       "  </tbody>\n",
       "</table>\n"
      ],
      "text/plain": [
       "<pandas.io.formats.style.Styler at 0x168d37a30>"
      ]
     },
     "execution_count": 9,
     "metadata": {},
     "output_type": "execute_result"
    }
   ],
   "source": [
    "from sklearn.metrics.pairwise import cosine_similarity\n",
    "\n",
    "# Compute similarities exactly the same as we did before!\n",
    "similarities = cosine_similarity(embeddings)\n",
    "\n",
    "# Turn into a dataframe\n",
    "pd.DataFrame(similarities,\n",
    "            index=sentences,\n",
    "            columns=sentences) \\\n",
    "            .style \\\n",
    "            .background_gradient(axis=None)"
   ]
  },
  {
   "cell_type": "code",
   "execution_count": null,
   "id": "26a0975e",
   "metadata": {},
   "outputs": [],
   "source": []
  }
 ],
 "metadata": {
  "kernelspec": {
   "display_name": "Python 3 (ipykernel)",
   "language": "python",
   "name": "python3"
  },
  "language_info": {
   "codemirror_mode": {
    "name": "ipython",
    "version": 3
   },
   "file_extension": ".py",
   "mimetype": "text/x-python",
   "name": "python",
   "nbconvert_exporter": "python",
   "pygments_lexer": "ipython3",
   "version": "3.10.3"
  }
 },
 "nbformat": 4,
 "nbformat_minor": 5
}
