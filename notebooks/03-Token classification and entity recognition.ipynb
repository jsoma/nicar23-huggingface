{
 "cells": [
  {
   "cell_type": "code",
   "execution_count": null,
   "id": "8c731b7c",
   "metadata": {},
   "outputs": [],
   "source": [
    "!pip install -q sentence-transformers sentencepiece transformers"
   ]
  },
  {
   "cell_type": "markdown",
   "id": "6f7ae9ef",
   "metadata": {},
   "source": [
    "# Token classification and named entity recognition (NER)\n",
    "\n",
    "What if instead of classifying entire sentences or documents, we just looked at smaller segments?"
   ]
  },
  {
   "cell_type": "code",
   "execution_count": null,
   "id": "d956aac5",
   "metadata": {},
   "outputs": [],
   "source": [
    "from transformers import AutoTokenizer, AutoModelForTokenClassification\n",
    "from transformers import pipeline"
   ]
  },
  {
   "cell_type": "code",
   "execution_count": null,
   "id": "bb9fbf12",
   "metadata": {},
   "outputs": [],
   "source": [
    "nlp = pipeline(\"token-classification\",\n",
    "               model=\"Davlan/bert-base-multilingual-cased-ner-hrl\")"
   ]
  },
  {
   "cell_type": "code",
   "execution_count": null,
   "id": "a02e2f00",
   "metadata": {},
   "outputs": [],
   "source": [
    "example = \"My name is Clara and I live in Berkeley, California.\"\n",
    "ner_results = nlp(example)\n",
    "ner_results"
   ]
  },
  {
   "cell_type": "code",
   "execution_count": null,
   "id": "7e9501af",
   "metadata": {},
   "outputs": [],
   "source": [
    "nlp = pipeline(\"token-classification\",\n",
    "               model=\"Davlan/bert-base-multilingual-cased-ner-hrl\",\n",
    "               aggregation_strategy=\"simple\")"
   ]
  },
  {
   "cell_type": "code",
   "execution_count": null,
   "id": "87010dbb",
   "metadata": {},
   "outputs": [],
   "source": [
    "example = \"My name is Clara and I live in Berkeley, California.\"\n",
    "ner_results = nlp(example)\n",
    "ner_results"
   ]
  },
  {
   "cell_type": "markdown",
   "id": "e999fd78",
   "metadata": {},
   "source": [
    "## What if it's never seen me before?"
   ]
  },
  {
   "cell_type": "code",
   "execution_count": null,
   "id": "4a5fe990",
   "metadata": {},
   "outputs": [],
   "source": [
    "example = \"My name is Jonathan Soma and I'm teaching at NICAR in Nashville.\"\n",
    "ner_results = nlp(example)\n",
    "ner_results"
   ]
  },
  {
   "cell_type": "code",
   "execution_count": null,
   "id": "1c2f46c5",
   "metadata": {},
   "outputs": [],
   "source": []
  }
 ],
 "metadata": {
  "kernelspec": {
   "display_name": "Python 3 (ipykernel)",
   "language": "python",
   "name": "python3"
  },
  "language_info": {
   "codemirror_mode": {
    "name": "ipython",
    "version": 3
   },
   "file_extension": ".py",
   "mimetype": "text/x-python",
   "name": "python",
   "nbconvert_exporter": "python",
   "pygments_lexer": "ipython3",
   "version": "3.10.3"
  }
 },
 "nbformat": 4,
 "nbformat_minor": 5
}
