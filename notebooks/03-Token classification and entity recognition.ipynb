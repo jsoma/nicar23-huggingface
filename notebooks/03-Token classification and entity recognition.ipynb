{
 "cells": [
  {
   "cell_type": "code",
   "execution_count": 2,
   "id": "8c731b7c",
   "metadata": {},
   "outputs": [
    {
     "name": "stdout",
     "output_type": "stream",
     "text": [
      "\r\n",
      "\u001b[1m[\u001b[0m\u001b[34;49mnotice\u001b[0m\u001b[1;39;49m]\u001b[0m\u001b[39;49m A new release of pip available: \u001b[0m\u001b[31;49m22.3.1\u001b[0m\u001b[39;49m -> \u001b[0m\u001b[32;49m23.0.1\u001b[0m\r\n",
      "\u001b[1m[\u001b[0m\u001b[34;49mnotice\u001b[0m\u001b[1;39;49m]\u001b[0m\u001b[39;49m To update, run: \u001b[0m\u001b[32;49mpython -m pip install --upgrade pip\u001b[0m\r\n"
     ]
    }
   ],
   "source": [
    "!pip install -q sentence-transformers sentencepiece transformers"
   ]
  },
  {
   "cell_type": "markdown",
   "id": "6f7ae9ef",
   "metadata": {},
   "source": [
    "# Token classification and named entity recognition (NER)\n",
    "\n",
    "What if instead of classifying entire sentences or documents, we just looked at smaller segments?"
   ]
  },
  {
   "cell_type": "code",
   "execution_count": 3,
   "id": "d956aac5",
   "metadata": {},
   "outputs": [],
   "source": [
    "from transformers import AutoTokenizer, AutoModelForTokenClassification\n",
    "from transformers import pipeline"
   ]
  },
  {
   "cell_type": "code",
   "execution_count": 18,
   "id": "bb9fbf12",
   "metadata": {},
   "outputs": [],
   "source": [
    "nlp = pipeline(\"token-classification\",\n",
    "               model=\"Davlan/bert-base-multilingual-cased-ner-hrl\")"
   ]
  },
  {
   "cell_type": "code",
   "execution_count": 19,
   "id": "a02e2f00",
   "metadata": {},
   "outputs": [
    {
     "data": {
      "text/plain": [
       "[{'entity': 'B-PER',\n",
       "  'score': 0.99975926,\n",
       "  'index': 4,\n",
       "  'word': 'Clara',\n",
       "  'start': 11,\n",
       "  'end': 16},\n",
       " {'entity': 'B-LOC',\n",
       "  'score': 0.99969494,\n",
       "  'index': 9,\n",
       "  'word': 'Berkeley',\n",
       "  'start': 31,\n",
       "  'end': 39},\n",
       " {'entity': 'B-LOC',\n",
       "  'score': 0.99973947,\n",
       "  'index': 11,\n",
       "  'word': 'California',\n",
       "  'start': 41,\n",
       "  'end': 51}]"
      ]
     },
     "execution_count": 19,
     "metadata": {},
     "output_type": "execute_result"
    }
   ],
   "source": [
    "example = \"My name is Clara and I live in Berkeley, California.\"\n",
    "ner_results = nlp(example)\n",
    "ner_results"
   ]
  },
  {
   "cell_type": "code",
   "execution_count": 20,
   "id": "7e9501af",
   "metadata": {},
   "outputs": [],
   "source": [
    "nlp = pipeline(\"token-classification\",\n",
    "               model=\"Davlan/bert-base-multilingual-cased-ner-hrl\",\n",
    "               aggregation_strategy=\"simple\")"
   ]
  },
  {
   "cell_type": "code",
   "execution_count": 21,
   "id": "87010dbb",
   "metadata": {},
   "outputs": [
    {
     "data": {
      "text/plain": [
       "[{'entity_group': 'PER',\n",
       "  'score': 0.99975926,\n",
       "  'word': 'Clara',\n",
       "  'start': 11,\n",
       "  'end': 16},\n",
       " {'entity_group': 'LOC',\n",
       "  'score': 0.99969494,\n",
       "  'word': 'Berkeley',\n",
       "  'start': 31,\n",
       "  'end': 39},\n",
       " {'entity_group': 'LOC',\n",
       "  'score': 0.99973947,\n",
       "  'word': 'California',\n",
       "  'start': 41,\n",
       "  'end': 51}]"
      ]
     },
     "execution_count": 21,
     "metadata": {},
     "output_type": "execute_result"
    }
   ],
   "source": [
    "example = \"My name is Clara and I live in Berkeley, California.\"\n",
    "ner_results = nlp(example)\n",
    "ner_results"
   ]
  },
  {
   "cell_type": "markdown",
   "id": "e999fd78",
   "metadata": {},
   "source": [
    "## What if it's never seen me before?"
   ]
  },
  {
   "cell_type": "code",
   "execution_count": 22,
   "id": "4a5fe990",
   "metadata": {},
   "outputs": [
    {
     "data": {
      "text/plain": [
       "[{'entity_group': 'PER',\n",
       "  'score': 0.9993243,\n",
       "  'word': 'Jonathan Soma',\n",
       "  'start': 11,\n",
       "  'end': 24},\n",
       " {'entity_group': 'ORG',\n",
       "  'score': 0.99983,\n",
       "  'word': 'NICAR',\n",
       "  'start': 45,\n",
       "  'end': 50},\n",
       " {'entity_group': 'LOC',\n",
       "  'score': 0.9998566,\n",
       "  'word': 'Nashville',\n",
       "  'start': 54,\n",
       "  'end': 63}]"
      ]
     },
     "execution_count": 22,
     "metadata": {},
     "output_type": "execute_result"
    }
   ],
   "source": [
    "example = \"My name is Jonathan Soma and I'm teaching at NICAR in Nashville.\"\n",
    "ner_results = nlp(example)\n",
    "ner_results"
   ]
  },
  {
   "cell_type": "code",
   "execution_count": null,
   "id": "1c2f46c5",
   "metadata": {},
   "outputs": [],
   "source": []
  }
 ],
 "metadata": {
  "kernelspec": {
   "display_name": "Python 3 (ipykernel)",
   "language": "python",
   "name": "python3"
  },
  "language_info": {
   "codemirror_mode": {
    "name": "ipython",
    "version": 3
   },
   "file_extension": ".py",
   "mimetype": "text/x-python",
   "name": "python",
   "nbconvert_exporter": "python",
   "pygments_lexer": "ipython3",
   "version": "3.10.3"
  }
 },
 "nbformat": 4,
 "nbformat_minor": 5
}
